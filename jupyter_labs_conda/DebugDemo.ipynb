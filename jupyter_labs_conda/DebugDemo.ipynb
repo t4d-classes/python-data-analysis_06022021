{
 "cells": [
  {
   "cell_type": "code",
   "execution_count": 1,
   "id": "1b87dbaa-c188-4ef4-9816-355e1524cae1",
   "metadata": {},
   "outputs": [
    {
     "data": {
      "text/plain": [
       "6"
      ]
     },
     "metadata": {},
     "output_type": "display_data"
    }
   ],
   "source": [
    "a = 2\n",
    "b = 4\n",
    "\n",
    "c = a + b\n",
    "\n",
    "display(c)"
   ]
  },
  {
   "cell_type": "code",
   "execution_count": null,
   "id": "6ffbf809-7a4a-4865-81ab-96d9f890e27d",
   "metadata": {},
   "outputs": [],
   "source": []
  },
  {
   "cell_type": "code",
   "execution_count": null,
   "id": "13c5c95d-ab71-4c02-b417-c288430205ed",
   "metadata": {},
   "outputs": [],
   "source": []
  }
 ],
 "metadata": {
  "kernelspec": {
   "display_name": "Python 3.9 (XPython)",
   "language": "python",
   "name": "xpython"
  },
  "language_info": {
   "file_extension": ".py",
   "mimetype": "text/x-python",
   "name": "python",
   "version": "3.9.4"
  }
 },
 "nbformat": 4,
 "nbformat_minor": 5
}
