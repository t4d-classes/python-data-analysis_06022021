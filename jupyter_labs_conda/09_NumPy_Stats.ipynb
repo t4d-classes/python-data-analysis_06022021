{
 "cells": [
  {
   "cell_type": "markdown",
   "id": "950997bb-d474-4d10-b4e3-1a12db3a339e",
   "metadata": {},
   "source": [
    "# NumPy Stats"
   ]
  },
  {
   "cell_type": "code",
   "execution_count": 1,
   "id": "de345084-40c6-47c0-b276-9146127c9efe",
   "metadata": {},
   "outputs": [],
   "source": [
    "import math\n",
    "import statistics as stats2\n",
    "\n",
    "from matplotlib import pyplot as plt\n",
    "from matplotlib.ticker import MaxNLocator\n",
    "from scipy import stats\n",
    "import numpy as np\n",
    "\n",
    "%matplotlib inline"
   ]
  },
  {
   "cell_type": "code",
   "execution_count": 2,
   "id": "96cf8d2e-92b0-4ed6-8d3c-9db1f035fcda",
   "metadata": {},
   "outputs": [
    {
     "name": "stdout",
     "output_type": "stream",
     "text": [
      "9.5\n",
      "8.533333333333333\n",
      "7.066666666666666\n"
     ]
    }
   ],
   "source": [
    "## Mean\n",
    "\n",
    "# population mean (array 0 to 19)\n",
    "population = np.arange(0,20)\n",
    "print(np.mean(population))\n",
    "\n",
    "# sample 1 mean\n",
    "sample1 = np.random.choice(population, size=15)\n",
    "print(np.mean(sample1)) \n",
    "\n",
    "# sample 2 mean\n",
    "sample2 = np.random.choice(population, size=15)\n",
    "print(np.mean(sample2)) "
   ]
  },
  {
   "cell_type": "code",
   "execution_count": 3,
   "id": "9bb206d8-e435-4faa-b14d-73b689658645",
   "metadata": {},
   "outputs": [
    {
     "name": "stdout",
     "output_type": "stream",
     "text": [
      "10.0\n",
      "5.0\n",
      "11.0\n"
     ]
    }
   ],
   "source": [
    "## Median\n",
    "\n",
    "# population median (array 0 to 20)\n",
    "population = np.arange(0,21)\n",
    "print(np.median(population)) # Example Output: 10.0\n",
    "\n",
    "# sample 1 median\n",
    "sample1 = np.random.choice(population, size=15)\n",
    "print(np.median(sample1)) \n",
    "\n",
    "# sample 2 median\n",
    "sample2 = np.random.choice(population, size=15)\n",
    "print(np.median(sample2)) "
   ]
  },
  {
   "cell_type": "code",
   "execution_count": 4,
   "id": "8c26d8d0-f635-481b-949a-47b2c36baf89",
   "metadata": {},
   "outputs": [
    {
     "name": "stdout",
     "output_type": "stream",
     "text": [
      "ModeResult(mode=array([5.]), count=array([3]))\n",
      "5.0\n"
     ]
    }
   ],
   "source": [
    "## Mode\n",
    "\n",
    "nums = np.array([3,5,1,7,2,5,9,1,4,2,6,5], dtype=float)\n",
    "\n",
    "print(stats.mode(nums)) \n",
    "print(stats2.mode(nums)) "
   ]
  },
  {
   "cell_type": "code",
   "execution_count": 5,
   "id": "a5b5d659-7fb1-4ec9-b3f2-20723339d1b7",
   "metadata": {},
   "outputs": [
    {
     "name": "stdout",
     "output_type": "stream",
     "text": [
      "6.0\n",
      "3.0\n"
     ]
    }
   ],
   "source": [
    "## Effect of Outliers\n",
    "\n",
    "nums = np.array([1,2,3,4,20])\n",
    "\n",
    "# outputs 6.0\n",
    "print(np.mean(nums))\n",
    "\n",
    "# outputs 3.0\n",
    "print(np.median(nums))"
   ]
  },
  {
   "cell_type": "code",
   "execution_count": 6,
   "id": "3350edf3-cbb7-445f-8846-ba24bf1bddba",
   "metadata": {},
   "outputs": [
    {
     "name": "stdout",
     "output_type": "stream",
     "text": [
      "833\n",
      "767\n",
      "917\n"
     ]
    }
   ],
   "source": [
    "## Variance\n",
    "\n",
    "population = np.arange(0,100)\n",
    "print(stats2.pvariance(population)) # output 833\n",
    "\n",
    "sample1 = np.random.choice(population, size=80)\n",
    "print(stats2.variance(sample1)) \n",
    "\n",
    "sample2 = np.random.choice(population, size=80)\n",
    "print(stats2.variance(sample2))"
   ]
  },
  {
   "cell_type": "code",
   "execution_count": 9,
   "id": "71d1482b-37f7-4e43-9287-f67938909b61",
   "metadata": {},
   "outputs": [
    {
     "name": "stdout",
     "output_type": "stream",
     "text": [
      "28.861739379323623\n",
      "29.393876913398138\n",
      "26.570660511172846\n"
     ]
    }
   ],
   "source": [
    "## Standard Deviation\n",
    "\n",
    "population = np.arange(0,100)\n",
    "print(stats2.pstdev(population)) # outputs 28.861739379323623\n",
    "\n",
    "sample1 = np.random.choice(population, size=80)\n",
    "print(stats2.stdev(sample1))\n",
    "\n",
    "sample2 = np.random.choice(population, size=80)\n",
    "print(stats2.stdev(sample2))"
   ]
  },
  {
   "cell_type": "code",
   "execution_count": 10,
   "id": "9cbbecde-e1f6-4acd-a77e-ee8659664a6b",
   "metadata": {},
   "outputs": [
    {
     "name": "stdout",
     "output_type": "stream",
     "text": [
      "20.0\n",
      "40.0\n",
      "36.0\n",
      "44.0\n"
     ]
    }
   ],
   "source": [
    "## Percentiles\n",
    "\n",
    "nums = np.array([10,20,30,40,50])\n",
    "\n",
    "# 25% percentile output 20.0\n",
    "print(np.percentile(nums, 25))\n",
    "\n",
    "# 75% percentile output 40.0\n",
    "print(np.percentile(nums, 75))\n",
    "\n",
    "# 65% percentile output 36.0\n",
    "print(np.percentile(nums, 65))\n",
    "\n",
    "# 85% percentile output 44.0\n",
    "print(np.percentile(nums, 85))"
   ]
  },
  {
   "cell_type": "code",
   "execution_count": 11,
   "id": "aa7e6dd5-a102-4606-9e69-92b7dc39c4a4",
   "metadata": {},
   "outputs": [
    {
     "name": "stdout",
     "output_type": "stream",
     "text": [
      "-0.5533475416259573\n"
     ]
    },
    {
     "data": {
      "image/png": "[encoded data removed]",
      "text/plain": [
       "<Figure size 432x288 with 1 Axes>"
      ]
     },
     "metadata": {
      "needs_background": "light"
     },
     "output_type": "display_data"
    }
   ],
   "source": [
    "nums = np.concatenate([\n",
    "    np.random.randint(\n",
    "        (x-1)*10, x*10, size=x*100)\n",
    "    for x in np.arange(10, 0, -1)\n",
    "])\n",
    "\n",
    "print(stats.skew(nums))\n",
    "\n",
    "plt.hist(nums, bins=100)\n",
    "plt.show()"
   ]
  },
  {
   "cell_type": "code",
   "execution_count": 12,
   "id": "771c6772-947a-4a89-a1dc-a8dc5fdad08e",
   "metadata": {},
   "outputs": [
    {
     "name": "stdout",
     "output_type": "stream",
     "text": [
      "0.5540582145066216\n"
     ]
    },
    {
     "data": {
      "image/png": "[encoded data removed]",
      "text/plain": [
       "<Figure size 432x288 with 1 Axes>"
      ]
     },
     "metadata": {
      "needs_background": "light"
     },
     "output_type": "display_data"
    }
   ],
   "source": [
    "nums = np.concatenate([\n",
    "    np.random.randint(\n",
    "        x*10, (x+1)*10, size=(10-x)*100)\n",
    "    for x in np.arange(0, 10, 1)\n",
    "])\n",
    "\n",
    "print(stats.skew(nums))\n",
    "\n",
    "plt.hist(nums, bins=100)\n",
    "plt.show()"
   ]
  },
  {
   "cell_type": "code",
   "execution_count": 13,
   "id": "6c3fb747-5157-4ca2-bf03-77c307011af4",
   "metadata": {},
   "outputs": [
    {
     "name": "stdout",
     "output_type": "stream",
     "text": [
      "DescribeResult(nobs=20, minmax=(0, 19), mean=9.5, variance=35.0, skewness=0.0, kurtosis=-1.206015037593985)\n"
     ]
    }
   ],
   "source": [
    "nums = np.arange(0,20)\n",
    "\n",
    "# output\n",
    "# DescribeResult(\n",
    "#   nobs=20, minmax=(0, 19), mean=9.5,\n",
    "#   variance=35.0, skewness=0.0,\n",
    "#   kurtosis=-1.206015037593985\n",
    "# )\n",
    "\n",
    "print(stats.describe(nums))"
   ]
  },
  {
   "cell_type": "code",
   "execution_count": 14,
   "id": "be6105df-bfb3-4925-8710-cbdf426e6042",
   "metadata": {},
   "outputs": [
    {
     "data": {
      "text/plain": [
       "array([0, 3, 4, 1, 4, 1, 2, 3, 1, 2])"
      ]
     },
     "metadata": {},
     "output_type": "display_data"
    },
    {
     "data": {
      "text/plain": [
       "array([2, 4, 3, 0, 1])"
      ]
     },
     "metadata": {},
     "output_type": "display_data"
    },
    {
     "data": {
      "text/plain": [
       "array([7, 9, 9, 7, 1, 5, 5, 3, 1, 7])"
      ]
     },
     "metadata": {},
     "output_type": "display_data"
    }
   ],
   "source": [
    "# Choice\n",
    "\n",
    "display(np.random.choice(5, 10))\n",
    "\n",
    "display(np.random.choice(5, 5, replace=False))\n",
    "\n",
    "arr = np.array([1,3,5,7,9])\n",
    "\n",
    "display(np.random.choice(arr, 10))"
   ]
  },
  {
   "cell_type": "code",
   "execution_count": 15,
   "id": "1a59011d-3dfc-433e-86dd-f727e77de494",
   "metadata": {},
   "outputs": [
    {
     "data": {
      "image/png": "[encoded data removed]",
      "text/plain": [
       "<Figure size 432x288 with 1 Axes>"
      ]
     },
     "metadata": {
      "needs_background": "light"
     },
     "output_type": "display_data"
    }
   ],
   "source": [
    "# Boxplot\n",
    "\n",
    "first_semester = np.array([65, 67, 68, 72, 72, 80, 81, 82, 82, 91, 91, 91, 93, 94, 91, 91, 91, 93, 94, 100, 100, 100])\n",
    "second_semester = np.array([75, 77, 78, 72, 72, 70, 71, 72, 82, 91, 91, 91, 93, 94, 91, 91, 91, 93, 94, 100, 100, 100])\n",
    "\n",
    "plt.title('Scores by Semester')\n",
    "plt.xlabel('Semester')\n",
    "plt.ylabel('Scores')\n",
    "\n",
    "plt.boxplot([first_semester, second_semester], labels=[\"First\", \"Second\"])\n",
    "plt.show()"
   ]
  },
  {
   "cell_type": "code",
   "execution_count": null,
   "id": "505a86a4-9ba6-41c1-a228-43e2f9701ad6",
   "metadata": {},
   "outputs": [],
   "source": []
  }
 ],
 "metadata": {
  "kernelspec": {
   "display_name": "Python 3",
   "language": "python",
   "name": "python3"
  },
  "language_info": {
   "codemirror_mode": {
    "name": "ipython",
    "version": 3
   },
   "file_extension": ".py",
   "mimetype": "text/x-python",
   "name": "python",
   "nbconvert_exporter": "python",
   "pygments_lexer": "ipython3",
   "version": "3.9.4"
  }
 },
 "nbformat": 4,
 "nbformat_minor": 5
}
