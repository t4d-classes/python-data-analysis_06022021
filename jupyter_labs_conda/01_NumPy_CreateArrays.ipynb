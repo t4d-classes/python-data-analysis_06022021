{
 "cells": [
  {
   "cell_type": "markdown",
   "id": "463b2794-e2f5-43a6-915a-69b43b004ead",
   "metadata": {},
   "source": [
    "# Create NumPy Arrays"
   ]
  },
  {
   "cell_type": "code",
   "execution_count": null,
   "id": "d453a88f-bd3f-41af-9e64-f647d45c7e7a",
   "metadata": {},
   "outputs": [],
   "source": [
    "import sys\n",
    "\n",
    "from matplotlib import pyplot as plt\n",
    "import numpy as np # most people alias numpy to np"
   ]
  },
  {
   "cell_type": "markdown",
   "id": "7c59fa49-c2dd-4a17-aeda-43068b31da53",
   "metadata": {},
   "source": [
    "## Create NumPy Arrays from a Python List"
   ]
  },
  {
   "cell_type": "code",
   "execution_count": null,
   "id": "7d5e42e5-950c-4b56-9bb6-dca6cf2fe60a",
   "metadata": {},
   "outputs": [],
   "source": [
    "nums_list = [1,2,3,4,5]\n",
    "\n",
    "nums_arr = np.array(nums_list, dtype=\"int16\")\n",
    "\n",
    "display(nums_list)\n",
    "display(nums_arr)"
   ]
  },
  {
   "cell_type": "markdown",
   "id": "1ea99174-b523-4b89-8451-9af88767c799",
   "metadata": {},
   "source": [
    "## NumPy Array Attributes"
   ]
  },
  {
   "cell_type": "code",
   "execution_count": null,
   "id": "1e4785df-3755-4719-8fea-55fd503c5bdf",
   "metadata": {},
   "outputs": [],
   "source": [
    "display(nums_arr.dtype)\n",
    "display(nums_arr.ndim)\n",
    "display(nums_arr.size)\n",
    "display(len(nums_arr))\n",
    "display(type(nums_arr))"
   ]
  },
  {
   "cell_type": "markdown",
   "id": "b0e773e0-f159-4900-acd9-844ecd5ef1de",
   "metadata": {},
   "source": [
    "## NumPy Array Memory"
   ]
  },
  {
   "cell_type": "code",
   "execution_count": null,
   "id": "7ae6a80d-4b25-4694-abf0-e28798de17fe",
   "metadata": {},
   "outputs": [],
   "source": [
    "display(nums_arr.itemsize)\n",
    "display(nums_arr.size)\n",
    "display(nums_arr.itemsize * nums_arr.size)\n",
    "display(nums_arr.nbytes)\n",
    "display(sys.getsizeof(nums_arr))"
   ]
  },
  {
   "cell_type": "markdown",
   "id": "501dda3a-2740-4073-aded-7142af2c8ba7",
   "metadata": {},
   "source": [
    "## Multi-Dimesional Arrays"
   ]
  },
  {
   "cell_type": "code",
   "execution_count": null,
   "id": "a3214e5f-31c1-49cd-b816-f4c91dcf016d",
   "metadata": {},
   "outputs": [],
   "source": [
    "nums_list = [[[1,2,3],[1,2,3],[1,2,3]],[[1,2,3],[1,2,3],[1,2,3]]]\n",
    "\n",
    "nums_arr = np.array(nums_list, dtype=\"int16\")\n",
    "\n",
    "display(nums_list)\n",
    "display(nums_arr)"
   ]
  },
  {
   "cell_type": "code",
   "execution_count": null,
   "id": "148c0eb2-2a98-4ca7-bb17-95b644ccd7f8",
   "metadata": {},
   "outputs": [],
   "source": [
    "display(nums_arr.dtype)\n",
    "display(nums_arr.ndim)\n",
    "display(nums_arr.size)\n",
    "display(len(nums_arr))\n",
    "display(type(nums_arr))"
   ]
  },
  {
   "cell_type": "markdown",
   "id": "2e0a7325-c166-4264-8b98-75e79af0d6af",
   "metadata": {},
   "source": [
    "## Array of Floats"
   ]
  },
  {
   "cell_type": "code",
   "execution_count": null,
   "id": "06ea8d1f-19f4-48d9-9344-89353590f888",
   "metadata": {},
   "outputs": [],
   "source": [
    "nums_list = [1.,2.,3.,4.,5.]\n",
    "\n",
    "nums_arr = np.array(nums_list)\n",
    "\n",
    "display(nums_list)\n",
    "display(nums_arr)\n",
    "display(nums_arr.dtype)"
   ]
  },
  {
   "cell_type": "markdown",
   "id": "f6005fe0-0f17-4339-ae0c-eb6684c6a040",
   "metadata": {},
   "source": [
    "## Create Arrays Filled with Numbers"
   ]
  },
  {
   "cell_type": "code",
   "execution_count": null,
   "id": "3b564e40-372f-4046-b1bc-77504d96ead0",
   "metadata": {},
   "outputs": [],
   "source": [
    "nums_list = list(range(10))\n",
    "\n",
    "print(nums_list)"
   ]
  },
  {
   "cell_type": "code",
   "execution_count": null,
   "id": "fbccc3e7-03f9-4e1e-8046-0fad50b2e9d5",
   "metadata": {},
   "outputs": [],
   "source": [
    "nums_arr = np.arange(10)\n",
    "print(nums_arr)\n",
    "\n",
    "nums_arr = np.arange(10, 20)\n",
    "print(nums_arr)\n",
    "\n",
    "nums_arr = np.arange(100, step=10)\n",
    "print(nums_arr)\n",
    "\n",
    "nums_arr = np.arange(100., step=10)\n",
    "print(nums_arr)\n",
    "\n",
    "nums_arr = np.arange(100, step=10, dtype=\"int8\")\n",
    "print(nums_arr)"
   ]
  },
  {
   "cell_type": "code",
   "execution_count": null,
   "id": "fe06bfb7-5a55-4f63-9221-b1ecebee8549",
   "metadata": {},
   "outputs": [],
   "source": [
    "nums_arr = np.linspace(0, 10, num=20)\n",
    "print(nums_arr)"
   ]
  },
  {
   "cell_type": "code",
   "execution_count": null,
   "id": "a52547db-a92d-492d-9044-149f56c636b2",
   "metadata": {},
   "outputs": [],
   "source": [
    "x = np.ones((5), dtype=int)\n",
    "print(x)\n",
    "print(x.dtype)\n",
    "\n",
    "x = np.ones((5,5), dtype=int)\n",
    "print(x)\n",
    "print(x.dtype)"
   ]
  },
  {
   "cell_type": "code",
   "execution_count": null,
   "id": "ceb8963f-e39e-40f4-a657-5a47464ad4cb",
   "metadata": {},
   "outputs": [],
   "source": [
    "x = np.zeros((5), dtype=int)\n",
    "print(x)\n",
    "print(x.dtype)\n",
    "\n",
    "x = np.zeros((5,5), dtype=int)\n",
    "print(x)\n",
    "print(x.dtype)"
   ]
  },
  {
   "cell_type": "code",
   "execution_count": null,
   "id": "9fb240c5-9a86-4dfe-a9f9-aed1edd99ed3",
   "metadata": {},
   "outputs": [],
   "source": [
    "x = np.full( 5, 8, dtype=int)\n",
    "print(x)\n",
    "print(x.dtype)\n",
    "\n",
    "x = np.full( (5,3), 8, dtype=int)\n",
    "print(x)\n",
    "print(x.dtype)"
   ]
  },
  {
   "cell_type": "code",
   "execution_count": null,
   "id": "1f496c23-716e-41ad-ae0e-2ea4b4ffdf20",
   "metadata": {},
   "outputs": [],
   "source": [
    "some_arr = np.zeros((5,5), dtype=int)\n",
    "new_arr = np.full_like(some_arr, 7)\n",
    "\n",
    "print(some_arr)\n",
    "print(new_arr)"
   ]
  },
  {
   "cell_type": "markdown",
   "id": "dfcbd8c7-07d7-440c-bee9-0e788d4fe3c9",
   "metadata": {},
   "source": [
    "## Create Arrays from Random Numbers"
   ]
  },
  {
   "cell_type": "code",
   "execution_count": null,
   "id": "7bb489a5-c55a-4cd5-af0f-3b20a5ffbf6a",
   "metadata": {},
   "outputs": [],
   "source": [
    "print(np.random.rand(100))"
   ]
  },
  {
   "cell_type": "code",
   "execution_count": null,
   "id": "6f2cbf1e-df02-43c3-bc47-19a228489d2d",
   "metadata": {},
   "outputs": [],
   "source": [
    "print(np.random.randn(100))"
   ]
  },
  {
   "cell_type": "code",
   "execution_count": null,
   "id": "e5a5e923-f5ba-40a7-b2b1-e88c8ca83025",
   "metadata": {},
   "outputs": [],
   "source": [
    "print(np.random.randint(0, 100, size=200))"
   ]
  },
  {
   "cell_type": "markdown",
   "id": "3597cf92-0bcd-4fe3-84bc-5eaedaa5ff72",
   "metadata": {},
   "source": [
    "## Random Numbers from a Normal Distribution"
   ]
  },
  {
   "cell_type": "code",
   "execution_count": null,
   "id": "1874952e-9e09-49a7-883b-e89a6290d232",
   "metadata": {},
   "outputs": [],
   "source": [
    "x = np.arange(1000000)\n",
    "y = np.sort(np.random.normal(size=(1000000,)))\n",
    "\n",
    "plt.plot(x, y)"
   ]
  },
  {
   "cell_type": "code",
   "execution_count": null,
   "id": "01b21f94-69a9-4cb5-95bc-2ab1268d20b6",
   "metadata": {},
   "outputs": [],
   "source": [
    "plt.hist(y, 1000)"
   ]
  },
  {
   "cell_type": "code",
   "execution_count": null,
   "id": "b321601b-375b-48ae-abfe-3e436bf456bd",
   "metadata": {},
   "outputs": [],
   "source": []
  }
 ],
 "metadata": {
  "kernelspec": {
   "display_name": "Python 3",
   "language": "python",
   "name": "python3"
  },
  "language_info": {
   "codemirror_mode": {
    "name": "ipython",
    "version": 3
   },
   "file_extension": ".py",
   "mimetype": "text/x-python",
   "name": "python",
   "nbconvert_exporter": "python",
   "pygments_lexer": "ipython3",
   "version": "3.9.4"
  }
 },
 "nbformat": 4,
 "nbformat_minor": 5
}
