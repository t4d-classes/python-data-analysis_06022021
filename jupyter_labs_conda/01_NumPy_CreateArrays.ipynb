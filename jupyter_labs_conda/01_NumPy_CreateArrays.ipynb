{
 "cells": [
  {
   "cell_type": "markdown",
   "id": "463b2794-e2f5-43a6-915a-69b43b004ead",
   "metadata": {},
   "source": [
    "# Create NumPy Arrays"
   ]
  },
  {
   "cell_type": "code",
   "execution_count": 73,
   "id": "d453a88f-bd3f-41af-9e64-f647d45c7e7a",
   "metadata": {},
   "outputs": [],
   "source": [
    "import sys\n",
    "\n",
    "from matplotlib import pyplot as plt\n",
    "import numpy as np # most people alias numpy to np"
   ]
  },
  {
   "cell_type": "markdown",
   "id": "7c59fa49-c2dd-4a17-aeda-43068b31da53",
   "metadata": {},
   "source": [
    "## Create NumPy Arrays from a Python List"
   ]
  },
  {
   "cell_type": "code",
   "execution_count": 32,
   "id": "7d5e42e5-950c-4b56-9bb6-dca6cf2fe60a",
   "metadata": {},
   "outputs": [
    {
     "data": {
      "text/plain": [
       "[1, 2, 3, 4, 5]"
      ]
     },
     "metadata": {},
     "output_type": "display_data"
    },
    {
     "data": {
      "text/plain": [
       "array([1, 2, 3, 4, 5], dtype=int16)"
      ]
     },
     "metadata": {},
     "output_type": "display_data"
    }
   ],
   "source": [
    "nums_list = [1,2,3,4,5]\n",
    "\n",
    "nums_arr = np.array(nums_list, dtype=\"int16\")\n",
    "\n",
    "display(nums_list)\n",
    "display(nums_arr)"
   ]
  },
  {
   "cell_type": "markdown",
   "id": "1ea99174-b523-4b89-8451-9af88767c799",
   "metadata": {},
   "source": [
    "## NumPy Array Attributes"
   ]
  },
  {
   "cell_type": "code",
   "execution_count": 33,
   "id": "1e4785df-3755-4719-8fea-55fd503c5bdf",
   "metadata": {},
   "outputs": [
    {
     "data": {
      "text/plain": [
       "dtype('int16')"
      ]
     },
     "metadata": {},
     "output_type": "display_data"
    },
    {
     "data": {
      "text/plain": [
       "1"
      ]
     },
     "metadata": {},
     "output_type": "display_data"
    },
    {
     "data": {
      "text/plain": [
       "5"
      ]
     },
     "metadata": {},
     "output_type": "display_data"
    },
    {
     "data": {
      "text/plain": [
       "5"
      ]
     },
     "metadata": {},
     "output_type": "display_data"
    },
    {
     "data": {
      "text/plain": [
       "numpy.ndarray"
      ]
     },
     "metadata": {},
     "output_type": "display_data"
    }
   ],
   "source": [
    "display(nums_arr.dtype)\n",
    "display(nums_arr.ndim)\n",
    "display(nums_arr.size)\n",
    "display(len(nums_arr))\n",
    "display(type(nums_arr))"
   ]
  },
  {
   "cell_type": "markdown",
   "id": "b0e773e0-f159-4900-acd9-844ecd5ef1de",
   "metadata": {},
   "source": [
    "## NumPy Array Memory"
   ]
  },
  {
   "cell_type": "code",
   "execution_count": 34,
   "id": "7ae6a80d-4b25-4694-abf0-e28798de17fe",
   "metadata": {},
   "outputs": [
    {
     "data": {
      "text/plain": [
       "2"
      ]
     },
     "metadata": {},
     "output_type": "display_data"
    },
    {
     "data": {
      "text/plain": [
       "5"
      ]
     },
     "metadata": {},
     "output_type": "display_data"
    },
    {
     "data": {
      "text/plain": [
       "10"
      ]
     },
     "metadata": {},
     "output_type": "display_data"
    },
    {
     "data": {
      "text/plain": [
       "10"
      ]
     },
     "metadata": {},
     "output_type": "display_data"
    },
    {
     "data": {
      "text/plain": [
       "114"
      ]
     },
     "metadata": {},
     "output_type": "display_data"
    }
   ],
   "source": [
    "display(nums_arr.itemsize)\n",
    "display(nums_arr.size)\n",
    "display(nums_arr.itemsize * nums_arr.size)\n",
    "display(nums_arr.nbytes)\n",
    "display(sys.getsizeof(nums_arr))"
   ]
  },
  {
   "cell_type": "markdown",
   "id": "501dda3a-2740-4073-aded-7142af2c8ba7",
   "metadata": {},
   "source": [
    "## Multi-Dimesional Arrays"
   ]
  },
  {
   "cell_type": "code",
   "execution_count": 38,
   "id": "a3214e5f-31c1-49cd-b816-f4c91dcf016d",
   "metadata": {},
   "outputs": [
    {
     "data": {
      "text/plain": [
       "[[[1, 2, 3], [1, 2, 3], [1, 2, 3]], [[1, 2, 3], [1, 2, 3], [1, 2, 3]]]"
      ]
     },
     "metadata": {},
     "output_type": "display_data"
    },
    {
     "data": {
      "text/plain": [
       "array([[[1, 2, 3],\n",
       "        [1, 2, 3],\n",
       "        [1, 2, 3]],\n",
       "\n",
       "       [[1, 2, 3],\n",
       "        [1, 2, 3],\n",
       "        [1, 2, 3]]], dtype=int16)"
      ]
     },
     "metadata": {},
     "output_type": "display_data"
    }
   ],
   "source": [
    "nums_list = [[[1,2,3],[1,2,3],[1,2,3]],[[1,2,3],[1,2,3],[1,2,3]]]\n",
    "\n",
    "nums_arr = np.array(nums_list, dtype=\"int16\")\n",
    "\n",
    "display(nums_list)\n",
    "display(nums_arr)"
   ]
  },
  {
   "cell_type": "code",
   "execution_count": 39,
   "id": "148c0eb2-2a98-4ca7-bb17-95b644ccd7f8",
   "metadata": {},
   "outputs": [
    {
     "data": {
      "text/plain": [
       "dtype('int16')"
      ]
     },
     "metadata": {},
     "output_type": "display_data"
    },
    {
     "data": {
      "text/plain": [
       "3"
      ]
     },
     "metadata": {},
     "output_type": "display_data"
    },
    {
     "data": {
      "text/plain": [
       "18"
      ]
     },
     "metadata": {},
     "output_type": "display_data"
    },
    {
     "data": {
      "text/plain": [
       "2"
      ]
     },
     "metadata": {},
     "output_type": "display_data"
    },
    {
     "data": {
      "text/plain": [
       "numpy.ndarray"
      ]
     },
     "metadata": {},
     "output_type": "display_data"
    }
   ],
   "source": [
    "display(nums_arr.dtype)\n",
    "display(nums_arr.ndim)\n",
    "display(nums_arr.size)\n",
    "display(len(nums_arr))\n",
    "display(type(nums_arr))"
   ]
  },
  {
   "cell_type": "markdown",
   "id": "2e0a7325-c166-4264-8b98-75e79af0d6af",
   "metadata": {},
   "source": [
    "## Array of Floats"
   ]
  },
  {
   "cell_type": "code",
   "execution_count": 42,
   "id": "06ea8d1f-19f4-48d9-9344-89353590f888",
   "metadata": {},
   "outputs": [
    {
     "data": {
      "text/plain": [
       "[1.0, 2.0, 3.0, 4.0, 5.0]"
      ]
     },
     "metadata": {},
     "output_type": "display_data"
    },
    {
     "data": {
      "text/plain": [
       "array([1., 2., 3., 4., 5.])"
      ]
     },
     "metadata": {},
     "output_type": "display_data"
    },
    {
     "data": {
      "text/plain": [
       "dtype('float64')"
      ]
     },
     "metadata": {},
     "output_type": "display_data"
    }
   ],
   "source": [
    "nums_list = [1.,2.,3.,4.,5.]\n",
    "\n",
    "nums_arr = np.array(nums_list)\n",
    "\n",
    "display(nums_list)\n",
    "display(nums_arr)\n",
    "display(nums_arr.dtype)"
   ]
  },
  {
   "cell_type": "markdown",
   "id": "f6005fe0-0f17-4339-ae0c-eb6684c6a040",
   "metadata": {},
   "source": [
    "## Create Arrays Filled with Numbers"
   ]
  },
  {
   "cell_type": "code",
   "execution_count": 45,
   "id": "3b564e40-372f-4046-b1bc-77504d96ead0",
   "metadata": {},
   "outputs": [
    {
     "name": "stdout",
     "output_type": "stream",
     "text": [
      "[0, 1, 2, 3, 4, 5, 6, 7, 8, 9]\n"
     ]
    }
   ],
   "source": [
    "nums_list = list(range(10))\n",
    "\n",
    "print(nums_list)"
   ]
  },
  {
   "cell_type": "code",
   "execution_count": 52,
   "id": "fbccc3e7-03f9-4e1e-8046-0fad50b2e9d5",
   "metadata": {},
   "outputs": [
    {
     "name": "stdout",
     "output_type": "stream",
     "text": [
      "[0 1 2 3 4 5 6 7 8 9]\n",
      "[10 11 12 13 14 15 16 17 18 19]\n",
      "[ 0 10 20 30 40 50 60 70 80 90]\n",
      "[ 0. 10. 20. 30. 40. 50. 60. 70. 80. 90.]\n",
      "[ 0 10 20 30 40 50 60 70 80 90]\n"
     ]
    }
   ],
   "source": [
    "nums_arr = np.arange(10)\n",
    "print(nums_arr)\n",
    "\n",
    "nums_arr = np.arange(10, 20)\n",
    "print(nums_arr)\n",
    "\n",
    "nums_arr = np.arange(100, step=10)\n",
    "print(nums_arr)\n",
    "\n",
    "nums_arr = np.arange(100., step=10)\n",
    "print(nums_arr)\n",
    "\n",
    "nums_arr = np.arange(100, step=10, dtype=\"int8\")\n",
    "print(nums_arr)"
   ]
  },
  {
   "cell_type": "code",
   "execution_count": 53,
   "id": "fe06bfb7-5a55-4f63-9221-b1ecebee8549",
   "metadata": {},
   "outputs": [
    {
     "name": "stdout",
     "output_type": "stream",
     "text": [
      "[ 0.          0.52631579  1.05263158  1.57894737  2.10526316  2.63157895\n",
      "  3.15789474  3.68421053  4.21052632  4.73684211  5.26315789  5.78947368\n",
      "  6.31578947  6.84210526  7.36842105  7.89473684  8.42105263  8.94736842\n",
      "  9.47368421 10.        ]\n"
     ]
    }
   ],
   "source": [
    "nums_arr = np.linspace(0, 10, num=20)\n",
    "print(nums_arr)"
   ]
  },
  {
   "cell_type": "code",
   "execution_count": 63,
   "id": "a52547db-a92d-492d-9044-149f56c636b2",
   "metadata": {},
   "outputs": [
    {
     "name": "stdout",
     "output_type": "stream",
     "text": [
      "[1 1 1 1 1]\n",
      "int32\n",
      "[[1 1 1 1 1]\n",
      " [1 1 1 1 1]\n",
      " [1 1 1 1 1]\n",
      " [1 1 1 1 1]\n",
      " [1 1 1 1 1]]\n",
      "int32\n"
     ]
    }
   ],
   "source": [
    "x = np.ones((5), dtype=int)\n",
    "print(x)\n",
    "print(x.dtype)\n",
    "\n",
    "x = np.ones((5,5), dtype=int)\n",
    "print(x)\n",
    "print(x.dtype)"
   ]
  },
  {
   "cell_type": "code",
   "execution_count": 64,
   "id": "ceb8963f-e39e-40f4-a657-5a47464ad4cb",
   "metadata": {},
   "outputs": [
    {
     "name": "stdout",
     "output_type": "stream",
     "text": [
      "[0 0 0 0 0]\n",
      "int32\n",
      "[[0 0 0 0 0]\n",
      " [0 0 0 0 0]\n",
      " [0 0 0 0 0]\n",
      " [0 0 0 0 0]\n",
      " [0 0 0 0 0]]\n",
      "int32\n"
     ]
    }
   ],
   "source": [
    "x = np.zeros((5), dtype=int)\n",
    "print(x)\n",
    "print(x.dtype)\n",
    "\n",
    "x = np.zeros((5,5), dtype=int)\n",
    "print(x)\n",
    "print(x.dtype)"
   ]
  },
  {
   "cell_type": "code",
   "execution_count": 65,
   "id": "9fb240c5-9a86-4dfe-a9f9-aed1edd99ed3",
   "metadata": {},
   "outputs": [
    {
     "name": "stdout",
     "output_type": "stream",
     "text": [
      "[8 8 8 8 8]\n",
      "int32\n",
      "[[8 8 8]\n",
      " [8 8 8]\n",
      " [8 8 8]\n",
      " [8 8 8]\n",
      " [8 8 8]]\n",
      "int32\n"
     ]
    }
   ],
   "source": [
    "x = np.full( 5, 8, dtype=int)\n",
    "print(x)\n",
    "print(x.dtype)\n",
    "\n",
    "x = np.full( (5,3), 8, dtype=int)\n",
    "print(x)\n",
    "print(x.dtype)"
   ]
  },
  {
   "cell_type": "code",
   "execution_count": 66,
   "id": "1f496c23-716e-41ad-ae0e-2ea4b4ffdf20",
   "metadata": {},
   "outputs": [
    {
     "name": "stdout",
     "output_type": "stream",
     "text": [
      "[[0 0 0 0 0]\n",
      " [0 0 0 0 0]\n",
      " [0 0 0 0 0]\n",
      " [0 0 0 0 0]\n",
      " [0 0 0 0 0]]\n",
      "[[7 7 7 7 7]\n",
      " [7 7 7 7 7]\n",
      " [7 7 7 7 7]\n",
      " [7 7 7 7 7]\n",
      " [7 7 7 7 7]]\n"
     ]
    }
   ],
   "source": [
    "some_arr = np.zeros((5,5), dtype=int)\n",
    "new_arr = np.full_like(some_arr, 7)\n",
    "\n",
    "print(some_arr)\n",
    "print(new_arr)"
   ]
  },
  {
   "cell_type": "markdown",
   "id": "dfcbd8c7-07d7-440c-bee9-0e788d4fe3c9",
   "metadata": {},
   "source": [
    "## Create Arrays from Random Numbers"
   ]
  },
  {
   "cell_type": "code",
   "execution_count": 67,
   "id": "7bb489a5-c55a-4cd5-af0f-3b20a5ffbf6a",
   "metadata": {},
   "outputs": [
    {
     "name": "stdout",
     "output_type": "stream",
     "text": [
      "[0.12193242 0.96627869 0.40211803 0.61783573 0.49291632 0.37555572\n",
      " 0.62153578 0.07808743 0.38324074 0.60460422 0.80919439 0.49724809\n",
      " 0.17789544 0.45119919 0.79127997 0.43384543 0.74305804 0.32772473\n",
      " 0.81452267 0.39618464 0.17745934 0.4769012  0.53626482 0.97939077\n",
      " 0.85610514 0.8035391  0.78887976 0.20209085 0.41990561 0.20674365\n",
      " 0.81237937 0.24809956 0.78502781 0.2531009  0.05926187 0.48839142\n",
      " 0.05270921 0.46197459 0.55770406 0.63652498 0.70073041 0.74053867\n",
      " 0.39993932 0.76984658 0.34956738 0.93728604 0.7527947  0.31107393\n",
      " 0.25682117 0.82501067 0.97951462 0.59326517 0.18575805 0.17642057\n",
      " 0.21240352 0.04449996 0.13843464 0.4521924  0.74420148 0.0080299\n",
      " 0.03172812 0.38262601 0.1945953  0.47854289 0.62062187 0.94760652\n",
      " 0.10975472 0.18295613 0.62924158 0.37130833 0.84698352 0.60244671\n",
      " 0.89157907 0.8869972  0.80925491 0.26014199 0.48620788 0.61020479\n",
      " 0.97454465 0.32238029 0.64355279 0.69134369 0.57003809 0.78799006\n",
      " 0.60039155 0.37624603 0.71201785 0.5074912  0.71292074 0.20411946\n",
      " 0.54035122 0.39801355 0.68961244 0.59704227 0.37312482 0.77504575\n",
      " 0.14706028 0.62088683 0.01524945 0.05252516]\n"
     ]
    }
   ],
   "source": [
    "print(np.random.rand(100))"
   ]
  },
  {
   "cell_type": "code",
   "execution_count": 68,
   "id": "6f2cbf1e-df02-43c3-bc47-19a228489d2d",
   "metadata": {},
   "outputs": [
    {
     "name": "stdout",
     "output_type": "stream",
     "text": [
      "[ 1.06337244e+00 -5.20832727e-01  9.67264579e-01  9.47574250e-01\n",
      "  6.60872980e-01 -5.17499069e-01  8.09484774e-01  5.12195564e-01\n",
      " -1.01223565e+00  1.13595385e+00 -4.33245171e-01  1.72491747e-01\n",
      " -1.83762949e+00  1.11119619e+00  6.98650863e-01  8.97702761e-01\n",
      " -1.35915674e+00  8.34121966e-01 -1.15823763e+00  5.64287650e-01\n",
      " -7.66786250e-01 -6.87947500e-01  3.34020483e-01 -1.16632545e+00\n",
      "  2.77977439e-01 -5.37186340e-01  2.46762048e-01 -9.96376289e-01\n",
      "  5.05169817e-01 -1.45441056e+00 -8.69530156e-01 -2.31794419e-01\n",
      " -1.13024700e-01 -8.36675401e-01 -5.44427747e-01  9.91559513e-01\n",
      " -5.09720972e-01 -6.21187431e-01 -9.33224351e-01  6.95755807e-01\n",
      "  1.38876892e+00  1.50839601e+00  2.75199456e-01 -2.12920072e+00\n",
      " -8.58393519e-01 -7.59734235e-01  9.82637457e-01  2.06767372e-03\n",
      "  5.47525177e-01 -2.16307437e-01 -5.60862297e-01 -2.63608076e-01\n",
      " -1.26115915e+00  1.69096703e+00  7.01839830e-01 -7.77583124e-01\n",
      "  8.83839596e-01 -3.53045548e-01 -5.89922242e-01  2.61751859e+00\n",
      "  1.89724031e-01 -1.10954381e+00  4.28142767e-01  9.13997851e-01\n",
      "  8.31722919e-01  9.58871692e-01 -1.23139326e+00  1.60874017e+00\n",
      "  2.59043718e+00 -1.07833328e-01  1.27847413e+00 -2.35594020e+00\n",
      " -6.29932715e-01 -1.07276262e+00 -5.06722138e-01 -1.61657088e+00\n",
      " -1.09782956e+00 -1.12766212e+00  9.76612363e-01  1.16899685e+00\n",
      "  1.01518364e-01  4.35641055e-01 -1.37235966e+00 -1.65236399e+00\n",
      " -1.81561348e+00  9.77048035e-01 -1.90796977e+00 -1.12808498e+00\n",
      "  7.14567074e-01 -1.39961276e-01  3.31793411e+00  4.63671572e-01\n",
      " -2.43680663e-01 -1.62428425e+00 -4.86986445e-01  1.19367265e+00\n",
      " -2.32966073e+00 -1.29084724e+00  1.28626740e+00 -1.27985598e+00]\n"
     ]
    }
   ],
   "source": [
    "print(np.random.randn(100))"
   ]
  },
  {
   "cell_type": "code",
   "execution_count": 72,
   "id": "e5a5e923-f5ba-40a7-b2b1-e88c8ca83025",
   "metadata": {},
   "outputs": [
    {
     "name": "stdout",
     "output_type": "stream",
     "text": [
      "[59 61 65 17 63 35 17 75 97 30 96 70 81 49 45 31 46 57 41 45  4  4 83 42\n",
      "  5 14 17 10 73 13 67 12 22  1  0 49 84 41 40 16 95  2 37 72 97 71 36 52\n",
      " 48 79  5 67 77 74 63 51 26 46 67  8 84 55 26  2 76 25 45 42 41 27 31 61\n",
      " 36 14 50 72 82 62 76 90 40 77 21  5 58 27 72 46 80 37  3 25 10 56 99  8\n",
      " 66 53 31 60 31 89 82 38 94  4 12 29 95 95 97 70 36 41 91 13 82 42 89 87\n",
      " 19 11 63  2 99 50 74 16 50 10 50 74  5 51 69 37 12 28 53 98 31 66 16 98\n",
      " 57 98 13 37 12 23 71 42  0 76 75 46 60 76 32 34 27 82 51 78  3 77 94 77\n",
      "  7 44 70 49 83 39 71 43  0 51 42 22 22 49 53  3 42 73 68 39 70 85  1 88\n",
      " 91 13 70  6 51 51 89 52]\n"
     ]
    }
   ],
   "source": [
    "print(np.random.randint(0, 100, size=200))"
   ]
  },
  {
   "cell_type": "markdown",
   "id": "3597cf92-0bcd-4fe3-84bc-5eaedaa5ff72",
   "metadata": {},
   "source": [
    "## Random Numbers from a Normal Distribution"
   ]
  },
  {
   "cell_type": "code",
   "execution_count": 74,
   "id": "1874952e-9e09-49a7-883b-e89a6290d232",
   "metadata": {},
   "outputs": [
    {
     "data": {
      "text/plain": [
       "[<matplotlib.lines.Line2D at 0x16a0d024b50>]"
      ]
     },
     "execution_count": 74,
     "metadata": {},
     "output_type": "execute_result"
    },
    {
     "data": {
      "image/png": "[encoded data removed]",
      "text/plain": [
       "<Figure size 432x288 with 1 Axes>"
      ]
     },
     "metadata": {
      "needs_background": "light"
     },
     "output_type": "display_data"
    }
   ],
   "source": [
    "x = np.arange(1000000)\n",
    "y = np.sort(np.random.normal(size=(1000000,)))\n",
    "\n",
    "plt.plot(x, y)"
   ]
  },
  {
   "cell_type": "code",
   "execution_count": 76,
   "id": "01b21f94-69a9-4cb5-95bc-2ab1268d20b6",
   "metadata": {},
   "outputs": [
    {
     "data": {
      "text/plain": [
       "(array([1.000e+00, 0.000e+00, 0.000e+00, 0.000e+00, 0.000e+00, 0.000e+00,\n",
       "        1.000e+00, 1.000e+00, 0.000e+00, 0.000e+00, 0.000e+00, 0.000e+00,\n",
       "        0.000e+00, 0.000e+00, 1.000e+00, 0.000e+00, 0.000e+00, 0.000e+00,\n",
       "        0.000e+00, 0.000e+00, 1.000e+00, 0.000e+00, 0.000e+00, 0.000e+00,\n",
       "        0.000e+00, 1.000e+00, 0.000e+00, 0.000e+00, 0.000e+00, 1.000e+00,\n",
       "        0.000e+00, 0.000e+00, 0.000e+00, 0.000e+00, 1.000e+00, 1.000e+00,\n",
       "        0.000e+00, 0.000e+00, 1.000e+00, 0.000e+00, 0.000e+00, 1.000e+00,\n",
       "        0.000e+00, 0.000e+00, 0.000e+00, 0.000e+00, 1.000e+00, 0.000e+00,\n",
       "        0.000e+00, 1.000e+00, 1.000e+00, 1.000e+00, 1.000e+00, 0.000e+00,\n",
       "        1.000e+00, 0.000e+00, 1.000e+00, 0.000e+00, 0.000e+00, 1.000e+00,\n",
       "        1.000e+00, 0.000e+00, 1.000e+00, 0.000e+00, 0.000e+00, 0.000e+00,\n",
       "        2.000e+00, 2.000e+00, 1.000e+00, 1.000e+00, 1.000e+00, 0.000e+00,\n",
       "        2.000e+00, 0.000e+00, 1.000e+00, 0.000e+00, 2.000e+00, 3.000e+00,\n",
       "        0.000e+00, 1.000e+00, 0.000e+00, 1.000e+00, 2.000e+00, 1.000e+00,\n",
       "        1.000e+00, 5.000e+00, 3.000e+00, 6.000e+00, 0.000e+00, 3.000e+00,\n",
       "        4.000e+00, 2.000e+00, 6.000e+00, 3.000e+00, 3.000e+00, 2.000e+00,\n",
       "        1.000e+00, 3.000e+00, 5.000e+00, 4.000e+00, 1.000e+00, 6.000e+00,\n",
       "        1.000e+00, 6.000e+00, 2.000e+00, 6.000e+00, 6.000e+00, 4.000e+00,\n",
       "        7.000e+00, 1.000e+00, 1.200e+01, 1.300e+01, 3.000e+00, 4.000e+00,\n",
       "        9.000e+00, 3.000e+00, 8.000e+00, 9.000e+00, 6.000e+00, 1.000e+01,\n",
       "        8.000e+00, 4.000e+00, 1.200e+01, 7.000e+00, 3.000e+00, 7.000e+00,\n",
       "        6.000e+00, 9.000e+00, 3.000e+00, 8.000e+00, 1.100e+01, 7.000e+00,\n",
       "        1.300e+01, 1.000e+01, 1.000e+01, 1.300e+01, 1.600e+01, 1.400e+01,\n",
       "        2.000e+01, 1.400e+01, 1.600e+01, 1.200e+01, 1.500e+01, 1.200e+01,\n",
       "        1.700e+01, 1.500e+01, 2.100e+01, 1.400e+01, 1.700e+01, 1.300e+01,\n",
       "        2.300e+01, 2.100e+01, 2.800e+01, 2.400e+01, 2.100e+01, 2.400e+01,\n",
       "        2.000e+01, 1.800e+01, 2.700e+01, 1.900e+01, 1.800e+01, 2.100e+01,\n",
       "        2.500e+01, 3.100e+01, 3.400e+01, 2.300e+01, 2.900e+01, 3.200e+01,\n",
       "        2.700e+01, 2.800e+01, 3.200e+01, 2.800e+01, 3.900e+01, 3.200e+01,\n",
       "        4.000e+01, 3.300e+01, 2.900e+01, 3.800e+01, 2.900e+01, 3.200e+01,\n",
       "        4.400e+01, 4.800e+01, 4.400e+01, 5.100e+01, 4.800e+01, 4.700e+01,\n",
       "        4.200e+01, 5.800e+01, 5.200e+01, 4.800e+01, 5.700e+01, 5.400e+01,\n",
       "        5.500e+01, 6.700e+01, 6.000e+01, 5.500e+01, 5.700e+01, 6.200e+01,\n",
       "        6.900e+01, 6.800e+01, 8.100e+01, 7.500e+01, 1.020e+02, 9.200e+01,\n",
       "        8.500e+01, 1.000e+02, 9.000e+01, 9.200e+01, 9.100e+01, 1.040e+02,\n",
       "        7.900e+01, 1.070e+02, 9.500e+01, 1.030e+02, 1.220e+02, 1.240e+02,\n",
       "        1.280e+02, 1.120e+02, 1.340e+02, 1.400e+02, 1.290e+02, 1.330e+02,\n",
       "        1.140e+02, 1.120e+02, 1.480e+02, 1.260e+02, 1.500e+02, 1.230e+02,\n",
       "        1.550e+02, 1.400e+02, 1.240e+02, 1.460e+02, 1.440e+02, 1.930e+02,\n",
       "        1.740e+02, 1.770e+02, 1.760e+02, 1.820e+02, 1.740e+02, 2.000e+02,\n",
       "        1.860e+02, 2.050e+02, 1.970e+02, 1.930e+02, 2.020e+02, 2.240e+02,\n",
       "        2.160e+02, 2.200e+02, 2.230e+02, 2.560e+02, 2.300e+02, 2.500e+02,\n",
       "        2.540e+02, 2.620e+02, 2.590e+02, 2.550e+02, 2.630e+02, 2.960e+02,\n",
       "        2.760e+02, 2.930e+02, 2.510e+02, 2.950e+02, 2.980e+02, 2.830e+02,\n",
       "        2.970e+02, 3.350e+02, 3.360e+02, 3.770e+02, 3.560e+02, 3.520e+02,\n",
       "        3.600e+02, 3.970e+02, 4.030e+02, 3.720e+02, 4.150e+02, 3.770e+02,\n",
       "        3.980e+02, 4.410e+02, 4.110e+02, 4.190e+02, 4.640e+02, 4.660e+02,\n",
       "        4.570e+02, 4.460e+02, 4.540e+02, 4.550e+02, 4.990e+02, 5.010e+02,\n",
       "        5.150e+02, 5.080e+02, 5.260e+02, 5.080e+02, 5.610e+02, 5.600e+02,\n",
       "        5.650e+02, 5.470e+02, 5.920e+02, 5.830e+02, 6.460e+02, 6.660e+02,\n",
       "        6.400e+02, 6.150e+02, 6.630e+02, 6.580e+02, 7.100e+02, 6.870e+02,\n",
       "        7.250e+02, 6.810e+02, 7.160e+02, 7.350e+02, 7.060e+02, 8.510e+02,\n",
       "        7.610e+02, 7.490e+02, 8.060e+02, 8.040e+02, 8.170e+02, 8.680e+02,\n",
       "        8.260e+02, 8.190e+02, 9.150e+02, 8.640e+02, 1.015e+03, 9.410e+02,\n",
       "        9.310e+02, 9.770e+02, 9.930e+02, 1.013e+03, 9.460e+02, 9.970e+02,\n",
       "        1.053e+03, 9.890e+02, 1.083e+03, 1.070e+03, 1.081e+03, 1.142e+03,\n",
       "        1.126e+03, 1.189e+03, 1.132e+03, 1.183e+03, 1.228e+03, 1.205e+03,\n",
       "        1.209e+03, 1.257e+03, 1.217e+03, 1.287e+03, 1.271e+03, 1.313e+03,\n",
       "        1.308e+03, 1.351e+03, 1.426e+03, 1.424e+03, 1.335e+03, 1.406e+03,\n",
       "        1.473e+03, 1.504e+03, 1.500e+03, 1.440e+03, 1.535e+03, 1.625e+03,\n",
       "        1.621e+03, 1.591e+03, 1.582e+03, 1.630e+03, 1.626e+03, 1.713e+03,\n",
       "        1.739e+03, 1.699e+03, 1.733e+03, 1.722e+03, 1.721e+03, 1.770e+03,\n",
       "        1.779e+03, 1.790e+03, 1.813e+03, 1.881e+03, 1.936e+03, 1.915e+03,\n",
       "        1.931e+03, 1.950e+03, 1.958e+03, 2.016e+03, 2.120e+03, 2.037e+03,\n",
       "        2.040e+03, 2.092e+03, 2.105e+03, 2.076e+03, 2.142e+03, 2.104e+03,\n",
       "        2.206e+03, 2.235e+03, 2.275e+03, 2.282e+03, 2.168e+03, 2.307e+03,\n",
       "        2.358e+03, 2.334e+03, 2.387e+03, 2.340e+03, 2.397e+03, 2.372e+03,\n",
       "        2.462e+03, 2.395e+03, 2.514e+03, 2.514e+03, 2.582e+03, 2.508e+03,\n",
       "        2.541e+03, 2.516e+03, 2.578e+03, 2.608e+03, 2.615e+03, 2.700e+03,\n",
       "        2.772e+03, 2.736e+03, 2.693e+03, 2.692e+03, 2.824e+03, 2.820e+03,\n",
       "        2.822e+03, 2.815e+03, 2.873e+03, 2.839e+03, 2.823e+03, 2.956e+03,\n",
       "        2.915e+03, 2.979e+03, 2.968e+03, 2.942e+03, 3.028e+03, 3.093e+03,\n",
       "        3.033e+03, 3.089e+03, 3.147e+03, 3.090e+03, 3.097e+03, 3.114e+03,\n",
       "        3.141e+03, 3.175e+03, 3.132e+03, 3.118e+03, 3.209e+03, 3.183e+03,\n",
       "        3.336e+03, 3.304e+03, 3.365e+03, 3.197e+03, 3.240e+03, 3.349e+03,\n",
       "        3.406e+03, 3.504e+03, 3.350e+03, 3.351e+03, 3.439e+03, 3.452e+03,\n",
       "        3.392e+03, 3.407e+03, 3.422e+03, 3.390e+03, 3.396e+03, 3.456e+03,\n",
       "        3.500e+03, 3.578e+03, 3.513e+03, 3.516e+03, 3.524e+03, 3.537e+03,\n",
       "        3.592e+03, 3.624e+03, 3.521e+03, 3.480e+03, 3.660e+03, 3.553e+03,\n",
       "        3.640e+03, 3.524e+03, 3.690e+03, 3.598e+03, 3.654e+03, 3.511e+03,\n",
       "        3.702e+03, 3.610e+03, 3.613e+03, 3.625e+03, 3.777e+03, 3.621e+03,\n",
       "        3.695e+03, 3.741e+03, 3.771e+03, 3.671e+03, 3.739e+03, 3.723e+03,\n",
       "        3.657e+03, 3.736e+03, 3.737e+03, 3.649e+03, 3.690e+03, 3.699e+03,\n",
       "        3.785e+03, 3.789e+03, 3.725e+03, 3.705e+03, 3.767e+03, 3.765e+03,\n",
       "        3.721e+03, 3.767e+03, 3.689e+03, 3.739e+03, 3.755e+03, 3.751e+03,\n",
       "        3.710e+03, 3.775e+03, 3.763e+03, 3.640e+03, 3.723e+03, 3.561e+03,\n",
       "        3.647e+03, 3.660e+03, 3.721e+03, 3.733e+03, 3.614e+03, 3.689e+03,\n",
       "        3.641e+03, 3.579e+03, 3.590e+03, 3.672e+03, 3.660e+03, 3.489e+03,\n",
       "        3.629e+03, 3.575e+03, 3.537e+03, 3.572e+03, 3.538e+03, 3.488e+03,\n",
       "        3.523e+03, 3.619e+03, 3.541e+03, 3.411e+03, 3.470e+03, 3.388e+03,\n",
       "        3.483e+03, 3.490e+03, 3.476e+03, 3.458e+03, 3.391e+03, 3.393e+03,\n",
       "        3.359e+03, 3.478e+03, 3.441e+03, 3.347e+03, 3.366e+03, 3.301e+03,\n",
       "        3.286e+03, 3.358e+03, 3.423e+03, 3.217e+03, 3.372e+03, 3.275e+03,\n",
       "        3.231e+03, 3.215e+03, 3.174e+03, 3.103e+03, 3.210e+03, 3.153e+03,\n",
       "        3.120e+03, 3.104e+03, 3.014e+03, 3.062e+03, 3.111e+03, 2.989e+03,\n",
       "        3.060e+03, 3.030e+03, 3.037e+03, 3.013e+03, 2.880e+03, 3.024e+03,\n",
       "        2.892e+03, 2.785e+03, 2.717e+03, 2.952e+03, 2.774e+03, 2.868e+03,\n",
       "        2.786e+03, 2.711e+03, 2.811e+03, 2.699e+03, 2.670e+03, 2.656e+03,\n",
       "        2.723e+03, 2.619e+03, 2.649e+03, 2.515e+03, 2.600e+03, 2.655e+03,\n",
       "        2.527e+03, 2.562e+03, 2.532e+03, 2.521e+03, 2.440e+03, 2.462e+03,\n",
       "        2.371e+03, 2.461e+03, 2.430e+03, 2.317e+03, 2.289e+03, 2.342e+03,\n",
       "        2.310e+03, 2.343e+03, 2.339e+03, 2.278e+03, 2.139e+03, 2.262e+03,\n",
       "        2.137e+03, 2.164e+03, 2.136e+03, 2.113e+03, 2.016e+03, 2.046e+03,\n",
       "        2.087e+03, 1.994e+03, 2.024e+03, 1.987e+03, 1.935e+03, 1.955e+03,\n",
       "        1.888e+03, 1.939e+03, 1.852e+03, 1.787e+03, 1.911e+03, 1.836e+03,\n",
       "        1.780e+03, 1.721e+03, 1.684e+03, 1.687e+03, 1.719e+03, 1.725e+03,\n",
       "        1.728e+03, 1.613e+03, 1.628e+03, 1.643e+03, 1.576e+03, 1.589e+03,\n",
       "        1.583e+03, 1.546e+03, 1.581e+03, 1.471e+03, 1.472e+03, 1.416e+03,\n",
       "        1.474e+03, 1.409e+03, 1.483e+03, 1.468e+03, 1.419e+03, 1.369e+03,\n",
       "        1.394e+03, 1.330e+03, 1.342e+03, 1.265e+03, 1.222e+03, 1.194e+03,\n",
       "        1.227e+03, 1.212e+03, 1.198e+03, 1.193e+03, 1.166e+03, 1.144e+03,\n",
       "        1.104e+03, 1.111e+03, 1.114e+03, 1.073e+03, 1.052e+03, 1.086e+03,\n",
       "        1.078e+03, 1.089e+03, 9.990e+02, 9.430e+02, 9.630e+02, 9.560e+02,\n",
       "        9.380e+02, 9.850e+02, 8.990e+02, 9.470e+02, 8.920e+02, 9.110e+02,\n",
       "        8.410e+02, 8.230e+02, 8.300e+02, 8.320e+02, 8.620e+02, 7.740e+02,\n",
       "        8.250e+02, 8.330e+02, 7.760e+02, 7.260e+02, 8.010e+02, 7.700e+02,\n",
       "        7.040e+02, 7.020e+02, 6.930e+02, 6.720e+02, 6.430e+02, 6.620e+02,\n",
       "        6.580e+02, 6.430e+02, 6.030e+02, 6.170e+02, 5.990e+02, 5.830e+02,\n",
       "        5.860e+02, 5.460e+02, 5.360e+02, 5.590e+02, 5.900e+02, 5.530e+02,\n",
       "        4.820e+02, 5.230e+02, 4.740e+02, 5.120e+02, 4.490e+02, 4.870e+02,\n",
       "        4.690e+02, 4.250e+02, 4.500e+02, 4.680e+02, 3.920e+02, 3.920e+02,\n",
       "        3.960e+02, 3.920e+02, 3.920e+02, 4.050e+02, 4.170e+02, 4.050e+02,\n",
       "        3.580e+02, 3.380e+02, 3.900e+02, 3.260e+02, 3.570e+02, 3.370e+02,\n",
       "        3.000e+02, 3.380e+02, 3.130e+02, 3.220e+02, 3.040e+02, 2.800e+02,\n",
       "        2.640e+02, 2.750e+02, 2.580e+02, 2.810e+02, 2.490e+02, 2.770e+02,\n",
       "        2.590e+02, 2.370e+02, 2.460e+02, 2.070e+02, 2.050e+02, 2.030e+02,\n",
       "        2.410e+02, 2.440e+02, 2.170e+02, 2.060e+02, 1.940e+02, 1.920e+02,\n",
       "        1.910e+02, 1.930e+02, 1.870e+02, 1.540e+02, 1.670e+02, 1.480e+02,\n",
       "        1.680e+02, 1.650e+02, 1.640e+02, 1.590e+02, 1.480e+02, 1.310e+02,\n",
       "        1.420e+02, 1.430e+02, 1.460e+02, 1.190e+02, 1.230e+02, 1.590e+02,\n",
       "        1.310e+02, 1.090e+02, 9.500e+01, 1.070e+02, 1.160e+02, 1.020e+02,\n",
       "        1.050e+02, 1.070e+02, 9.600e+01, 9.500e+01, 9.200e+01, 8.500e+01,\n",
       "        9.300e+01, 1.020e+02, 9.400e+01, 7.500e+01, 9.100e+01, 8.900e+01,\n",
       "        7.900e+01, 7.800e+01, 7.700e+01, 8.100e+01, 8.100e+01, 6.500e+01,\n",
       "        6.600e+01, 7.200e+01, 6.200e+01, 5.200e+01, 6.300e+01, 5.500e+01,\n",
       "        6.800e+01, 6.500e+01, 4.200e+01, 5.200e+01, 5.700e+01, 6.100e+01,\n",
       "        4.700e+01, 5.100e+01, 4.200e+01, 4.900e+01, 4.100e+01, 4.800e+01,\n",
       "        3.700e+01, 3.700e+01, 3.900e+01, 4.600e+01, 3.000e+01, 2.700e+01,\n",
       "        4.800e+01, 5.100e+01, 3.200e+01, 3.600e+01, 3.100e+01, 3.700e+01,\n",
       "        2.300e+01, 2.300e+01, 2.600e+01, 2.300e+01, 3.200e+01, 2.700e+01,\n",
       "        2.600e+01, 2.700e+01, 2.800e+01, 2.900e+01, 1.900e+01, 2.200e+01,\n",
       "        2.100e+01, 1.800e+01, 2.300e+01, 2.000e+01, 1.200e+01, 2.200e+01,\n",
       "        1.700e+01, 2.200e+01, 1.900e+01, 2.200e+01, 1.900e+01, 1.200e+01,\n",
       "        1.300e+01, 1.000e+01, 2.100e+01, 2.100e+01, 1.200e+01, 1.000e+01,\n",
       "        1.400e+01, 7.000e+00, 1.800e+01, 1.200e+01, 7.000e+00, 9.000e+00,\n",
       "        9.000e+00, 9.000e+00, 1.000e+01, 1.100e+01, 4.000e+00, 9.000e+00,\n",
       "        9.000e+00, 7.000e+00, 1.000e+01, 8.000e+00, 6.000e+00, 1.000e+00,\n",
       "        3.000e+00, 5.000e+00, 4.000e+00, 4.000e+00, 7.000e+00, 6.000e+00,\n",
       "        7.000e+00, 7.000e+00, 1.000e+00, 3.000e+00, 4.000e+00, 6.000e+00,\n",
       "        4.000e+00, 4.000e+00, 1.200e+01, 2.000e+00, 5.000e+00, 1.000e+00,\n",
       "        7.000e+00, 6.000e+00, 4.000e+00, 4.000e+00, 5.000e+00, 3.000e+00,\n",
       "        2.000e+00, 6.000e+00, 1.000e+00, 5.000e+00, 1.000e+00, 4.000e+00,\n",
       "        1.000e+00, 3.000e+00, 0.000e+00, 2.000e+00, 2.000e+00, 1.000e+00,\n",
       "        1.000e+00, 0.000e+00, 4.000e+00, 0.000e+00, 0.000e+00, 3.000e+00,\n",
       "        1.000e+00, 4.000e+00, 1.000e+00, 2.000e+00, 2.000e+00, 0.000e+00,\n",
       "        0.000e+00, 2.000e+00, 1.000e+00, 0.000e+00, 3.000e+00, 0.000e+00,\n",
       "        2.000e+00, 1.000e+00, 1.000e+00, 2.000e+00, 2.000e+00, 0.000e+00,\n",
       "        0.000e+00, 1.000e+00, 0.000e+00, 0.000e+00, 0.000e+00, 0.000e+00,\n",
       "        0.000e+00, 1.000e+00, 0.000e+00, 1.000e+00, 0.000e+00, 2.000e+00,\n",
       "        1.000e+00, 1.000e+00, 1.000e+00, 1.000e+00, 1.000e+00, 0.000e+00,\n",
       "        0.000e+00, 0.000e+00, 1.000e+00, 0.000e+00, 1.000e+00, 0.000e+00,\n",
       "        0.000e+00, 1.000e+00, 0.000e+00, 0.000e+00, 1.000e+00, 0.000e+00,\n",
       "        0.000e+00, 0.000e+00, 0.000e+00, 0.000e+00, 1.000e+00, 0.000e+00,\n",
       "        2.000e+00, 0.000e+00, 0.000e+00, 0.000e+00, 0.000e+00, 0.000e+00,\n",
       "        0.000e+00, 1.000e+00, 0.000e+00, 0.000e+00, 0.000e+00, 0.000e+00,\n",
       "        0.000e+00, 0.000e+00, 0.000e+00, 0.000e+00, 0.000e+00, 0.000e+00,\n",
       "        0.000e+00, 0.000e+00, 0.000e+00, 1.000e+00]),\n",
       " array([-4.67497943, -4.66565477, -4.65633011, ...,  4.63103344,\n",
       "         4.6403581 ,  4.64968276]),\n",
       " <BarContainer object of 1000 artists>)"
      ]
     },
     "execution_count": 76,
     "metadata": {},
     "output_type": "execute_result"
    },
    {
     "data": {
      "image/png": "[encoded data removed]",
      "text/plain": [
       "<Figure size 432x288 with 1 Axes>"
      ]
     },
     "metadata": {
      "needs_background": "light"
     },
     "output_type": "display_data"
    }
   ],
   "source": [
    "plt.hist(y, 1000)"
   ]
  },
  {
   "cell_type": "code",
   "execution_count": null,
   "id": "b321601b-375b-48ae-abfe-3e436bf456bd",
   "metadata": {},
   "outputs": [],
   "source": []
  }
 ],
 "metadata": {
  "kernelspec": {
   "display_name": "Python 3",
   "language": "python",
   "name": "python3"
  },
  "language_info": {
   "codemirror_mode": {
    "name": "ipython",
    "version": 3
   },
   "file_extension": ".py",
   "mimetype": "text/x-python",
   "name": "python",
   "nbconvert_exporter": "python",
   "pygments_lexer": "ipython3",
   "version": "3.9.4"
  }
 },
 "nbformat": 4,
 "nbformat_minor": 5
}
