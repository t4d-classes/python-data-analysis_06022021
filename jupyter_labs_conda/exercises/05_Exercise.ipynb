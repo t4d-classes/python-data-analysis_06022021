{
 "cells": [
  {
   "cell_type": "markdown",
   "id": "9d21e1b8-aec4-411a-86dd-6c4cc418e3f0",
   "metadata": {},
   "source": [
    "# Exercise #5"
   ]
  },
  {
   "cell_type": "markdown",
   "id": "0d7e693d-26ea-4bec-803f-578666e72eb7",
   "metadata": {},
   "source": [
    "Step 1. Load the cities (not the swapped version) CSV file created in exercise 4."
   ]
  },
  {
   "cell_type": "code",
   "execution_count": 1,
   "id": "3c417e50-25ec-4c24-a11f-d182622e74ea",
   "metadata": {},
   "outputs": [],
   "source": [
    "# Step 1 Solution\n",
    "\n",
    "import pandas as pd\n",
    "\n",
    "cities = pd.read_csv(\"cities.csv\", index_col=0)"
   ]
  },
  {
   "cell_type": "markdown",
   "id": "8a6eb04e-3572-4908-bafc-edb288ea3709",
   "metadata": {},
   "source": [
    "Step 2. Use head to display the first three rows."
   ]
  },
  {
   "cell_type": "code",
   "execution_count": 2,
   "id": "a1006230-f0d8-4a63-8d7d-ef4b08550743",
   "metadata": {},
   "outputs": [
    {
     "data": {
      "text/html": [
       "<div>\n",
       "<style scoped>\n",
       "    .dataframe tbody tr th:only-of-type {\n",
       "        vertical-align: middle;\n",
       "    }\n",
       "\n",
       "    .dataframe tbody tr th {\n",
       "        vertical-align: top;\n",
       "    }\n",
       "\n",
       "    .dataframe thead th {\n",
       "        text-align: right;\n",
       "    }\n",
       "</style>\n",
       "<table border=\"1\" class=\"dataframe\">\n",
       "  <thead>\n",
       "    <tr style=\"text-align: right;\">\n",
       "      <th></th>\n",
       "      <th>pop2020</th>\n",
       "      <th>pop2010</th>\n",
       "      <th>state</th>\n",
       "      <th>land area</th>\n",
       "      <th>pop change</th>\n",
       "      <th>pop density 2020</th>\n",
       "      <th>pop density 2010</th>\n",
       "    </tr>\n",
       "    <tr>\n",
       "      <th>city</th>\n",
       "      <th></th>\n",
       "      <th></th>\n",
       "      <th></th>\n",
       "      <th></th>\n",
       "      <th></th>\n",
       "      <th></th>\n",
       "      <th></th>\n",
       "    </tr>\n",
       "  </thead>\n",
       "  <tbody>\n",
       "    <tr>\n",
       "      <th>New York</th>\n",
       "      <td>8253213</td>\n",
       "      <td>8175133</td>\n",
       "      <td>NY</td>\n",
       "      <td>301.5</td>\n",
       "      <td>0.955091</td>\n",
       "      <td>27373.840796</td>\n",
       "      <td>27114.868988</td>\n",
       "    </tr>\n",
       "    <tr>\n",
       "      <th>Los Angeles</th>\n",
       "      <td>3970219</td>\n",
       "      <td>3792621</td>\n",
       "      <td>CA</td>\n",
       "      <td>468.7</td>\n",
       "      <td>4.682725</td>\n",
       "      <td>8470.704075</td>\n",
       "      <td>8091.787924</td>\n",
       "    </tr>\n",
       "    <tr>\n",
       "      <th>Chicago</th>\n",
       "      <td>2677643</td>\n",
       "      <td>2695598</td>\n",
       "      <td>IL</td>\n",
       "      <td>227.3</td>\n",
       "      <td>-0.666086</td>\n",
       "      <td>11780.215574</td>\n",
       "      <td>11859.208095</td>\n",
       "    </tr>\n",
       "  </tbody>\n",
       "</table>\n",
       "</div>"
      ],
      "text/plain": [
       "             pop2020  pop2010 state  land area  pop change  pop density 2020  \\\n",
       "city                                                                           \n",
       "New York     8253213  8175133    NY      301.5    0.955091      27373.840796   \n",
       "Los Angeles  3970219  3792621    CA      468.7    4.682725       8470.704075   \n",
       "Chicago      2677643  2695598    IL      227.3   -0.666086      11780.215574   \n",
       "\n",
       "             pop density 2010  \n",
       "city                           \n",
       "New York         27114.868988  \n",
       "Los Angeles       8091.787924  \n",
       "Chicago          11859.208095  "
      ]
     },
     "execution_count": 2,
     "metadata": {},
     "output_type": "execute_result"
    }
   ],
   "source": [
    "# Step 2 Solution\n",
    "\n",
    "cities.head(3)"
   ]
  },
  {
   "cell_type": "markdown",
   "id": "f41e7178-9d33-4a0d-89c6-3d400f03f1fe",
   "metadata": {},
   "source": [
    "Step 3. Use tail to display the last three rows."
   ]
  },
  {
   "cell_type": "code",
   "execution_count": 3,
   "id": "52b1ff7b-5fd1-4ce3-a7df-cff329bce4b0",
   "metadata": {},
   "outputs": [
    {
     "data": {
      "text/html": [
       "<div>\n",
       "<style scoped>\n",
       "    .dataframe tbody tr th:only-of-type {\n",
       "        vertical-align: middle;\n",
       "    }\n",
       "\n",
       "    .dataframe tbody tr th {\n",
       "        vertical-align: top;\n",
       "    }\n",
       "\n",
       "    .dataframe thead th {\n",
       "        text-align: right;\n",
       "    }\n",
       "</style>\n",
       "<table border=\"1\" class=\"dataframe\">\n",
       "  <thead>\n",
       "    <tr style=\"text-align: right;\">\n",
       "      <th></th>\n",
       "      <th>pop2020</th>\n",
       "      <th>pop2010</th>\n",
       "      <th>state</th>\n",
       "      <th>land area</th>\n",
       "      <th>pop change</th>\n",
       "      <th>pop density 2020</th>\n",
       "      <th>pop density 2010</th>\n",
       "    </tr>\n",
       "    <tr>\n",
       "      <th>city</th>\n",
       "      <th></th>\n",
       "      <th></th>\n",
       "      <th></th>\n",
       "      <th></th>\n",
       "      <th></th>\n",
       "      <th></th>\n",
       "      <th></th>\n",
       "    </tr>\n",
       "  </thead>\n",
       "  <tbody>\n",
       "    <tr>\n",
       "      <th>San Diego</th>\n",
       "      <td>1422420</td>\n",
       "      <td>1307402</td>\n",
       "      <td>CA</td>\n",
       "      <td>325.2</td>\n",
       "      <td>8.797447</td>\n",
       "      <td>4373.985240</td>\n",
       "      <td>4020.301353</td>\n",
       "    </tr>\n",
       "    <tr>\n",
       "      <th>Dallas</th>\n",
       "      <td>1343266</td>\n",
       "      <td>1197816</td>\n",
       "      <td>TX</td>\n",
       "      <td>340.9</td>\n",
       "      <td>12.142933</td>\n",
       "      <td>3940.352009</td>\n",
       "      <td>3513.687298</td>\n",
       "    </tr>\n",
       "    <tr>\n",
       "      <th>San Jose</th>\n",
       "      <td>1013616</td>\n",
       "      <td>945942</td>\n",
       "      <td>CA</td>\n",
       "      <td>177.5</td>\n",
       "      <td>7.154138</td>\n",
       "      <td>5710.512676</td>\n",
       "      <td>5329.250704</td>\n",
       "    </tr>\n",
       "  </tbody>\n",
       "</table>\n",
       "</div>"
      ],
      "text/plain": [
       "           pop2020  pop2010 state  land area  pop change  pop density 2020  \\\n",
       "city                                                                         \n",
       "San Diego  1422420  1307402    CA      325.2    8.797447       4373.985240   \n",
       "Dallas     1343266  1197816    TX      340.9   12.142933       3940.352009   \n",
       "San Jose   1013616   945942    CA      177.5    7.154138       5710.512676   \n",
       "\n",
       "           pop density 2010  \n",
       "city                         \n",
       "San Diego       4020.301353  \n",
       "Dallas          3513.687298  \n",
       "San Jose        5329.250704  "
      ]
     },
     "execution_count": 3,
     "metadata": {},
     "output_type": "execute_result"
    }
   ],
   "source": [
    "# Step 3 Solution\n",
    "\n",
    "cities.tail(3)"
   ]
  },
  {
   "cell_type": "markdown",
   "id": "4631e28d-24e8-4e0b-a588-97b6a1f6846b",
   "metadata": {},
   "source": [
    "Step 4. Display the row for Phoenix using the label."
   ]
  },
  {
   "cell_type": "code",
   "execution_count": 4,
   "id": "5ad37f05-6e7c-4926-8160-3b1276204c04",
   "metadata": {},
   "outputs": [
    {
     "data": {
      "text/html": [
       "<div>\n",
       "<style scoped>\n",
       "    .dataframe tbody tr th:only-of-type {\n",
       "        vertical-align: middle;\n",
       "    }\n",
       "\n",
       "    .dataframe tbody tr th {\n",
       "        vertical-align: top;\n",
       "    }\n",
       "\n",
       "    .dataframe thead th {\n",
       "        text-align: right;\n",
       "    }\n",
       "</style>\n",
       "<table border=\"1\" class=\"dataframe\">\n",
       "  <thead>\n",
       "    <tr style=\"text-align: right;\">\n",
       "      <th></th>\n",
       "      <th>pop2020</th>\n",
       "      <th>pop2010</th>\n",
       "      <th>state</th>\n",
       "      <th>land area</th>\n",
       "      <th>pop change</th>\n",
       "      <th>pop density 2020</th>\n",
       "      <th>pop density 2010</th>\n",
       "    </tr>\n",
       "    <tr>\n",
       "      <th>city</th>\n",
       "      <th></th>\n",
       "      <th></th>\n",
       "      <th></th>\n",
       "      <th></th>\n",
       "      <th></th>\n",
       "      <th></th>\n",
       "      <th></th>\n",
       "    </tr>\n",
       "  </thead>\n",
       "  <tbody>\n",
       "    <tr>\n",
       "      <th>Phoenix</th>\n",
       "      <td>1708127</td>\n",
       "      <td>1445632</td>\n",
       "      <td>AZ</td>\n",
       "      <td>517.6</td>\n",
       "      <td>18.157802</td>\n",
       "      <td>3300.090804</td>\n",
       "      <td>2792.952087</td>\n",
       "    </tr>\n",
       "  </tbody>\n",
       "</table>\n",
       "</div>"
      ],
      "text/plain": [
       "         pop2020  pop2010 state  land area  pop change  pop density 2020  \\\n",
       "city                                                                       \n",
       "Phoenix  1708127  1445632    AZ      517.6   18.157802       3300.090804   \n",
       "\n",
       "         pop density 2010  \n",
       "city                       \n",
       "Phoenix       2792.952087  "
      ]
     },
     "execution_count": 4,
     "metadata": {},
     "output_type": "execute_result"
    }
   ],
   "source": [
    "# Step 4 Solution\n",
    "\n",
    "cities.loc[ [\"Phoenix\"] ]"
   ]
  },
  {
   "cell_type": "markdown",
   "id": "b92c9d44-b913-43ec-9598-47ccb8ed34c3",
   "metadata": {},
   "source": [
    "Step 5. Display the row for Phoenix using the row index."
   ]
  },
  {
   "cell_type": "code",
   "execution_count": 39,
   "id": "78ad0f6d-b7d6-4250-94b6-c30ad59488aa",
   "metadata": {},
   "outputs": [
    {
     "data": {
      "text/html": [
       "<div>\n",
       "<style scoped>\n",
       "    .dataframe tbody tr th:only-of-type {\n",
       "        vertical-align: middle;\n",
       "    }\n",
       "\n",
       "    .dataframe tbody tr th {\n",
       "        vertical-align: top;\n",
       "    }\n",
       "\n",
       "    .dataframe thead th {\n",
       "        text-align: right;\n",
       "    }\n",
       "</style>\n",
       "<table border=\"1\" class=\"dataframe\">\n",
       "  <thead>\n",
       "    <tr style=\"text-align: right;\">\n",
       "      <th></th>\n",
       "      <th>pop2020</th>\n",
       "      <th>pop2010</th>\n",
       "      <th>state</th>\n",
       "      <th>land area</th>\n",
       "      <th>pop change</th>\n",
       "      <th>pop density 2020</th>\n",
       "      <th>pop density 2010</th>\n",
       "    </tr>\n",
       "    <tr>\n",
       "      <th>city</th>\n",
       "      <th></th>\n",
       "      <th></th>\n",
       "      <th></th>\n",
       "      <th></th>\n",
       "      <th></th>\n",
       "      <th></th>\n",
       "      <th></th>\n",
       "    </tr>\n",
       "  </thead>\n",
       "  <tbody>\n",
       "    <tr>\n",
       "      <th>Phoenix</th>\n",
       "      <td>1708127</td>\n",
       "      <td>1445632</td>\n",
       "      <td>AZ</td>\n",
       "      <td>517.6</td>\n",
       "      <td>18.157802</td>\n",
       "      <td>3300.090804</td>\n",
       "      <td>2792.952087</td>\n",
       "    </tr>\n",
       "  </tbody>\n",
       "</table>\n",
       "</div>"
      ],
      "text/plain": [
       "         pop2020  pop2010 state  land area  pop change  pop density 2020  \\\n",
       "city                                                                       \n",
       "Phoenix  1708127  1445632    AZ      517.6   18.157802       3300.090804   \n",
       "\n",
       "         pop density 2010  \n",
       "city                       \n",
       "Phoenix       2792.952087  "
      ]
     },
     "execution_count": 39,
     "metadata": {},
     "output_type": "execute_result"
    }
   ],
   "source": [
    "# Step 5 Solution\n",
    "\n",
    "# cities\n",
    "# cities.iloc[ [4] ]\n",
    "\n",
    "# cities.loc[[\"Phoenix\"]]\n",
    "\n",
    "# cities.index[ cities[\"pop2020\"] == 8253213 ]\n",
    "\n",
    "# cities.index[ [\"Phoenix\"] ]\n",
    "\n",
    "import numpy as np\n",
    "\n",
    "idx_results = np.where(cities.index.values == \"Phoenix\")\n",
    "idx = idx_results[0][0]\n",
    "cities.iloc[ [idx] ]\n",
    "\n",
    "\n",
    "cities.iloc[ [ cities.index.get_loc(\"Phoenix\") ] ]\n",
    "\n"
   ]
  },
  {
   "cell_type": "markdown",
   "id": "714101e7-f851-41a8-89bb-1ea15804c96e",
   "metadata": {},
   "source": [
    "Step 6. How many cities experienced negative growth from 2010 to 2020?"
   ]
  },
  {
   "cell_type": "code",
   "execution_count": 12,
   "id": "3748cbd6-2fe3-4e81-ac07-bdd7cd759e42",
   "metadata": {},
   "outputs": [
    {
     "data": {
      "text/html": [
       "<div>\n",
       "<style scoped>\n",
       "    .dataframe tbody tr th:only-of-type {\n",
       "        vertical-align: middle;\n",
       "    }\n",
       "\n",
       "    .dataframe tbody tr th {\n",
       "        vertical-align: top;\n",
       "    }\n",
       "\n",
       "    .dataframe thead th {\n",
       "        text-align: right;\n",
       "    }\n",
       "</style>\n",
       "<table border=\"1\" class=\"dataframe\">\n",
       "  <thead>\n",
       "    <tr style=\"text-align: right;\">\n",
       "      <th></th>\n",
       "      <th>pop2020</th>\n",
       "      <th>pop2010</th>\n",
       "      <th>state</th>\n",
       "      <th>land area</th>\n",
       "      <th>pop change</th>\n",
       "      <th>pop density 2020</th>\n",
       "      <th>pop density 2010</th>\n",
       "    </tr>\n",
       "    <tr>\n",
       "      <th>city</th>\n",
       "      <th></th>\n",
       "      <th></th>\n",
       "      <th></th>\n",
       "      <th></th>\n",
       "      <th></th>\n",
       "      <th></th>\n",
       "      <th></th>\n",
       "    </tr>\n",
       "  </thead>\n",
       "  <tbody>\n",
       "    <tr>\n",
       "      <th>Chicago</th>\n",
       "      <td>2677643</td>\n",
       "      <td>2695598</td>\n",
       "      <td>IL</td>\n",
       "      <td>227.3</td>\n",
       "      <td>-0.666086</td>\n",
       "      <td>11780.215574</td>\n",
       "      <td>11859.208095</td>\n",
       "    </tr>\n",
       "  </tbody>\n",
       "</table>\n",
       "</div>"
      ],
      "text/plain": [
       "         pop2020  pop2010 state  land area  pop change  pop density 2020  \\\n",
       "city                                                                       \n",
       "Chicago  2677643  2695598    IL      227.3   -0.666086      11780.215574   \n",
       "\n",
       "         pop density 2010  \n",
       "city                       \n",
       "Chicago      11859.208095  "
      ]
     },
     "execution_count": 12,
     "metadata": {},
     "output_type": "execute_result"
    }
   ],
   "source": [
    "# Step 6 Solution\n",
    "\n",
    "cities[cities[\"pop change\"] < 0]"
   ]
  },
  {
   "cell_type": "markdown",
   "id": "9ddfddcd-5764-4c00-bf05-37c2f1d1085e",
   "metadata": {},
   "source": [
    "Step 7. Display Chicago to Houston using a range of labels."
   ]
  },
  {
   "cell_type": "code",
   "execution_count": 14,
   "id": "c04cb345-90ca-493f-a972-ea48e50aa9e1",
   "metadata": {},
   "outputs": [
    {
     "data": {
      "text/html": [
       "<div>\n",
       "<style scoped>\n",
       "    .dataframe tbody tr th:only-of-type {\n",
       "        vertical-align: middle;\n",
       "    }\n",
       "\n",
       "    .dataframe tbody tr th {\n",
       "        vertical-align: top;\n",
       "    }\n",
       "\n",
       "    .dataframe thead th {\n",
       "        text-align: right;\n",
       "    }\n",
       "</style>\n",
       "<table border=\"1\" class=\"dataframe\">\n",
       "  <thead>\n",
       "    <tr style=\"text-align: right;\">\n",
       "      <th></th>\n",
       "      <th>pop2020</th>\n",
       "      <th>pop2010</th>\n",
       "      <th>state</th>\n",
       "      <th>land area</th>\n",
       "      <th>pop change</th>\n",
       "      <th>pop density 2020</th>\n",
       "      <th>pop density 2010</th>\n",
       "    </tr>\n",
       "    <tr>\n",
       "      <th>city</th>\n",
       "      <th></th>\n",
       "      <th></th>\n",
       "      <th></th>\n",
       "      <th></th>\n",
       "      <th></th>\n",
       "      <th></th>\n",
       "      <th></th>\n",
       "    </tr>\n",
       "  </thead>\n",
       "  <tbody>\n",
       "    <tr>\n",
       "      <th>Chicago</th>\n",
       "      <td>2677643</td>\n",
       "      <td>2695598</td>\n",
       "      <td>IL</td>\n",
       "      <td>227.3</td>\n",
       "      <td>-0.666086</td>\n",
       "      <td>11780.215574</td>\n",
       "      <td>11859.208095</td>\n",
       "    </tr>\n",
       "    <tr>\n",
       "      <th>Houston</th>\n",
       "      <td>2316120</td>\n",
       "      <td>2100263</td>\n",
       "      <td>TX</td>\n",
       "      <td>637.5</td>\n",
       "      <td>10.277618</td>\n",
       "      <td>3633.129412</td>\n",
       "      <td>3294.530196</td>\n",
       "    </tr>\n",
       "    <tr>\n",
       "      <th>Phoenix</th>\n",
       "      <td>1708127</td>\n",
       "      <td>1445632</td>\n",
       "      <td>AZ</td>\n",
       "      <td>517.6</td>\n",
       "      <td>18.157802</td>\n",
       "      <td>3300.090804</td>\n",
       "      <td>2792.952087</td>\n",
       "    </tr>\n",
       "  </tbody>\n",
       "</table>\n",
       "</div>"
      ],
      "text/plain": [
       "         pop2020  pop2010 state  land area  pop change  pop density 2020  \\\n",
       "city                                                                       \n",
       "Chicago  2677643  2695598    IL      227.3   -0.666086      11780.215574   \n",
       "Houston  2316120  2100263    TX      637.5   10.277618       3633.129412   \n",
       "Phoenix  1708127  1445632    AZ      517.6   18.157802       3300.090804   \n",
       "\n",
       "         pop density 2010  \n",
       "city                       \n",
       "Chicago      11859.208095  \n",
       "Houston       3294.530196  \n",
       "Phoenix       2792.952087  "
      ]
     },
     "execution_count": 14,
     "metadata": {},
     "output_type": "execute_result"
    }
   ],
   "source": [
    "# Step 7 Solution\n",
    "\n",
    "cities[ \"Chicago\":\"Phoenix\" ]"
   ]
  },
  {
   "cell_type": "markdown",
   "id": "337c4943-62bb-4e1f-85e3-af7c28d3fe87",
   "metadata": {},
   "source": [
    "Step 8. Display Chicago to Houston using a range of indexes."
   ]
  },
  {
   "cell_type": "code",
   "execution_count": 16,
   "id": "f86bb422-4ab5-4d25-8db9-5ee490508096",
   "metadata": {},
   "outputs": [
    {
     "data": {
      "text/html": [
       "<div>\n",
       "<style scoped>\n",
       "    .dataframe tbody tr th:only-of-type {\n",
       "        vertical-align: middle;\n",
       "    }\n",
       "\n",
       "    .dataframe tbody tr th {\n",
       "        vertical-align: top;\n",
       "    }\n",
       "\n",
       "    .dataframe thead th {\n",
       "        text-align: right;\n",
       "    }\n",
       "</style>\n",
       "<table border=\"1\" class=\"dataframe\">\n",
       "  <thead>\n",
       "    <tr style=\"text-align: right;\">\n",
       "      <th></th>\n",
       "      <th>pop2020</th>\n",
       "      <th>pop2010</th>\n",
       "      <th>state</th>\n",
       "      <th>land area</th>\n",
       "      <th>pop change</th>\n",
       "      <th>pop density 2020</th>\n",
       "      <th>pop density 2010</th>\n",
       "    </tr>\n",
       "    <tr>\n",
       "      <th>city</th>\n",
       "      <th></th>\n",
       "      <th></th>\n",
       "      <th></th>\n",
       "      <th></th>\n",
       "      <th></th>\n",
       "      <th></th>\n",
       "      <th></th>\n",
       "    </tr>\n",
       "  </thead>\n",
       "  <tbody>\n",
       "    <tr>\n",
       "      <th>Chicago</th>\n",
       "      <td>2677643</td>\n",
       "      <td>2695598</td>\n",
       "      <td>IL</td>\n",
       "      <td>227.3</td>\n",
       "      <td>-0.666086</td>\n",
       "      <td>11780.215574</td>\n",
       "      <td>11859.208095</td>\n",
       "    </tr>\n",
       "    <tr>\n",
       "      <th>Houston</th>\n",
       "      <td>2316120</td>\n",
       "      <td>2100263</td>\n",
       "      <td>TX</td>\n",
       "      <td>637.5</td>\n",
       "      <td>10.277618</td>\n",
       "      <td>3633.129412</td>\n",
       "      <td>3294.530196</td>\n",
       "    </tr>\n",
       "    <tr>\n",
       "      <th>Phoenix</th>\n",
       "      <td>1708127</td>\n",
       "      <td>1445632</td>\n",
       "      <td>AZ</td>\n",
       "      <td>517.6</td>\n",
       "      <td>18.157802</td>\n",
       "      <td>3300.090804</td>\n",
       "      <td>2792.952087</td>\n",
       "    </tr>\n",
       "  </tbody>\n",
       "</table>\n",
       "</div>"
      ],
      "text/plain": [
       "         pop2020  pop2010 state  land area  pop change  pop density 2020  \\\n",
       "city                                                                       \n",
       "Chicago  2677643  2695598    IL      227.3   -0.666086      11780.215574   \n",
       "Houston  2316120  2100263    TX      637.5   10.277618       3633.129412   \n",
       "Phoenix  1708127  1445632    AZ      517.6   18.157802       3300.090804   \n",
       "\n",
       "         pop density 2010  \n",
       "city                       \n",
       "Chicago      11859.208095  \n",
       "Houston       3294.530196  \n",
       "Phoenix       2792.952087  "
      ]
     },
     "execution_count": 16,
     "metadata": {},
     "output_type": "execute_result"
    }
   ],
   "source": [
    "# Step 8 Solution\n",
    "\n",
    "cities.iloc[2:5]"
   ]
  },
  {
   "cell_type": "markdown",
   "id": "f4cd7e9c-fc76-4ade-b97c-7b1c40a5e105",
   "metadata": {},
   "source": [
    "Step 9. Display descriptive statistics for the data frame."
   ]
  },
  {
   "cell_type": "code",
   "execution_count": 17,
   "id": "311ac01e-7db7-49df-bc1e-9f605e71f96f",
   "metadata": {},
   "outputs": [
    {
     "data": {
      "text/html": [
       "<div>\n",
       "<style scoped>\n",
       "    .dataframe tbody tr th:only-of-type {\n",
       "        vertical-align: middle;\n",
       "    }\n",
       "\n",
       "    .dataframe tbody tr th {\n",
       "        vertical-align: top;\n",
       "    }\n",
       "\n",
       "    .dataframe thead th {\n",
       "        text-align: right;\n",
       "    }\n",
       "</style>\n",
       "<table border=\"1\" class=\"dataframe\">\n",
       "  <thead>\n",
       "    <tr style=\"text-align: right;\">\n",
       "      <th></th>\n",
       "      <th>pop2020</th>\n",
       "      <th>pop2010</th>\n",
       "      <th>land area</th>\n",
       "      <th>pop change</th>\n",
       "      <th>pop density 2020</th>\n",
       "      <th>pop density 2010</th>\n",
       "    </tr>\n",
       "  </thead>\n",
       "  <tbody>\n",
       "    <tr>\n",
       "      <th>count</th>\n",
       "      <td>1.000000e+01</td>\n",
       "      <td>1.000000e+01</td>\n",
       "      <td>10.000000</td>\n",
       "      <td>10.000000</td>\n",
       "      <td>10.000000</td>\n",
       "      <td>10.000000</td>\n",
       "    </tr>\n",
       "    <tr>\n",
       "      <th>mean</th>\n",
       "      <td>2.585023e+06</td>\n",
       "      <td>2.451382e+06</td>\n",
       "      <td>359.140000</td>\n",
       "      <td>8.299937</td>\n",
       "      <td>8374.441708</td>\n",
       "      <td>8026.712709</td>\n",
       "    </tr>\n",
       "    <tr>\n",
       "      <th>std</th>\n",
       "      <td>2.168183e+06</td>\n",
       "      <td>2.186342e+06</td>\n",
       "      <td>160.122378</td>\n",
       "      <td>6.529397</td>\n",
       "      <td>7452.100220</td>\n",
       "      <td>7529.281295</td>\n",
       "    </tr>\n",
       "    <tr>\n",
       "      <th>min</th>\n",
       "      <td>1.013616e+06</td>\n",
       "      <td>9.459420e+05</td>\n",
       "      <td>134.200000</td>\n",
       "      <td>-0.666086</td>\n",
       "      <td>3300.090804</td>\n",
       "      <td>2792.952087</td>\n",
       "    </tr>\n",
       "    <tr>\n",
       "      <th>25%</th>\n",
       "      <td>1.458594e+06</td>\n",
       "      <td>1.312403e+06</td>\n",
       "      <td>245.850000</td>\n",
       "      <td>3.750012</td>\n",
       "      <td>3709.935061</td>\n",
       "      <td>3349.319472</td>\n",
       "    </tr>\n",
       "    <tr>\n",
       "      <th>50%</th>\n",
       "      <td>1.643307e+06</td>\n",
       "      <td>1.485819e+06</td>\n",
       "      <td>333.050000</td>\n",
       "      <td>7.975793</td>\n",
       "      <td>5042.248958</td>\n",
       "      <td>4674.776029</td>\n",
       "    </tr>\n",
       "    <tr>\n",
       "      <th>75%</th>\n",
       "      <td>2.587262e+06</td>\n",
       "      <td>2.546764e+06</td>\n",
       "      <td>466.775000</td>\n",
       "      <td>11.676605</td>\n",
       "      <td>10939.324677</td>\n",
       "      <td>10551.296459</td>\n",
       "    </tr>\n",
       "    <tr>\n",
       "      <th>max</th>\n",
       "      <td>8.253213e+06</td>\n",
       "      <td>8.175133e+06</td>\n",
       "      <td>637.500000</td>\n",
       "      <td>18.157802</td>\n",
       "      <td>27373.840796</td>\n",
       "      <td>27114.868988</td>\n",
       "    </tr>\n",
       "  </tbody>\n",
       "</table>\n",
       "</div>"
      ],
      "text/plain": [
       "            pop2020       pop2010   land area  pop change  pop density 2020  \\\n",
       "count  1.000000e+01  1.000000e+01   10.000000   10.000000         10.000000   \n",
       "mean   2.585023e+06  2.451382e+06  359.140000    8.299937       8374.441708   \n",
       "std    2.168183e+06  2.186342e+06  160.122378    6.529397       7452.100220   \n",
       "min    1.013616e+06  9.459420e+05  134.200000   -0.666086       3300.090804   \n",
       "25%    1.458594e+06  1.312403e+06  245.850000    3.750012       3709.935061   \n",
       "50%    1.643307e+06  1.485819e+06  333.050000    7.975793       5042.248958   \n",
       "75%    2.587262e+06  2.546764e+06  466.775000   11.676605      10939.324677   \n",
       "max    8.253213e+06  8.175133e+06  637.500000   18.157802      27373.840796   \n",
       "\n",
       "       pop density 2010  \n",
       "count         10.000000  \n",
       "mean        8026.712709  \n",
       "std         7529.281295  \n",
       "min         2792.952087  \n",
       "25%         3349.319472  \n",
       "50%         4674.776029  \n",
       "75%        10551.296459  \n",
       "max        27114.868988  "
      ]
     },
     "execution_count": 17,
     "metadata": {},
     "output_type": "execute_result"
    }
   ],
   "source": [
    "# Step 9 Solution\n",
    "\n",
    "cities.describe()"
   ]
  },
  {
   "cell_type": "markdown",
   "id": "175a8b19-60e0-4192-a39a-67829c4646b8",
   "metadata": {},
   "source": [
    "Step 10. Use a pie chart to show the 2020 estimated population of each city relative to the other cities in the data frame."
   ]
  },
  {
   "cell_type": "code",
   "execution_count": 42,
   "id": "0f260d81-8ca7-441e-b019-218b685ed453",
   "metadata": {},
   "outputs": [
    {
     "data": {
      "text/plain": [
       "(31.927040219306946,)"
      ]
     },
     "metadata": {},
     "output_type": "display_data"
    },
    {
     "data": {
      "text/plain": [
       "{}"
      ]
     },
     "metadata": {},
     "output_type": "display_data"
    },
    {
     "data": {
      "text/plain": [
       "(15.358544886112213,)"
      ]
     },
     "metadata": {},
     "output_type": "display_data"
    },
    {
     "data": {
      "text/plain": [
       "{}"
      ]
     },
     "metadata": {},
     "output_type": "display_data"
    },
    {
     "data": {
      "text/plain": [
       "(10.35829484462738,)"
      ]
     },
     "metadata": {},
     "output_type": "display_data"
    },
    {
     "data": {
      "text/plain": [
       "{}"
      ]
     },
     "metadata": {},
     "output_type": "display_data"
    },
    {
     "data": {
      "text/plain": [
       "(8.95976573228836,)"
      ]
     },
     "metadata": {},
     "output_type": "display_data"
    },
    {
     "data": {
      "text/plain": [
       "{}"
      ]
     },
     "metadata": {},
     "output_type": "display_data"
    },
    {
     "data": {
      "text/plain": [
       "(6.60778284072876,)"
      ]
     },
     "metadata": {},
     "output_type": "display_data"
    },
    {
     "data": {
      "text/plain": [
       "{}"
      ]
     },
     "metadata": {},
     "output_type": "display_data"
    },
    {
     "data": {
      "text/plain": [
       "(6.106278300285339,)"
      ]
     },
     "metadata": {},
     "output_type": "display_data"
    },
    {
     "data": {
      "text/plain": [
       "{}"
      ]
     },
     "metadata": {},
     "output_type": "display_data"
    },
    {
     "data": {
      "text/plain": [
       "(6.062298268079758,)"
      ]
     },
     "metadata": {},
     "output_type": "display_data"
    },
    {
     "data": {
      "text/plain": [
       "{}"
      ]
     },
     "metadata": {},
     "output_type": "display_data"
    },
    {
     "data": {
      "text/plain": [
       "(5.502542853355408,)"
      ]
     },
     "metadata": {},
     "output_type": "display_data"
    },
    {
     "data": {
      "text/plain": [
       "{}"
      ]
     },
     "metadata": {},
     "output_type": "display_data"
    },
    {
     "data": {
      "text/plain": [
       "(5.1963407546281815,)"
      ]
     },
     "metadata": {},
     "output_type": "display_data"
    },
    {
     "data": {
      "text/plain": [
       "{}"
      ]
     },
     "metadata": {},
     "output_type": "display_data"
    },
    {
     "data": {
      "text/plain": [
       "(3.9211101830005646,)"
      ]
     },
     "metadata": {},
     "output_type": "display_data"
    },
    {
     "data": {
      "text/plain": [
       "{}"
      ]
     },
     "metadata": {},
     "output_type": "display_data"
    },
    {
     "data": {
      "image/png": "[encoded data removed]",
      "text/plain": [
       "<Figure size 720x720 with 1 Axes>"
      ]
     },
     "metadata": {},
     "output_type": "display_data"
    }
   ],
   "source": [
    "# Step 10 Solution\n",
    "\n",
    "from matplotlib import pyplot as plt\n",
    "%matplotlib inline\n",
    "\n",
    "# def actualvalue(val):\n",
    "#   return \"%.2f\" % val\n",
    "\n",
    "fig_1 = plt.figure(1, figsize=(10, 10), facecolor=\"white\")\n",
    "\n",
    "ax1 = fig_1.add_subplot(111)\n",
    "\n",
    "ax1.pie(\n",
    "  # cities[ [\"pop2020\"] ].values[:,0],\n",
    "  cities[\"pop2020\"].values,\n",
    "  labels=cities.index.values,\n",
    "  autopct='%1.1f%%',\n",
    "#   autopct=actualvalue\n",
    ")\n",
    "ax1.axis('equal')\n",
    "\n",
    "\n",
    "plt.show()"
   ]
  },
  {
   "cell_type": "code",
   "execution_count": null,
   "id": "fc70d0e3-9f57-4eef-ae34-741664f1d1fe",
   "metadata": {},
   "outputs": [],
   "source": []
  }
 ],
 "metadata": {
  "kernelspec": {
   "display_name": "Python 3",
   "language": "python",
   "name": "python3"
  },
  "language_info": {
   "codemirror_mode": {
    "name": "ipython",
    "version": 3
   },
   "file_extension": ".py",
   "mimetype": "text/x-python",
   "name": "python",
   "nbconvert_exporter": "python",
   "pygments_lexer": "ipython3",
   "version": "3.9.4"
  }
 },
 "nbformat": 4,
 "nbformat_minor": 5
}
