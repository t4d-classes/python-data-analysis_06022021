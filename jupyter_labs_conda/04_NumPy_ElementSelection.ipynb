{
 "cells": [
  {
   "cell_type": "markdown",
   "id": "f07d68fc-2f20-40be-b0a3-deccc9f79186",
   "metadata": {},
   "source": [
    "# NumPy Array Element Selection"
   ]
  },
  {
   "cell_type": "code",
   "execution_count": 25,
   "id": "a8bfee98-fc0d-4fa8-8cd4-c6c89bae12de",
   "metadata": {},
   "outputs": [],
   "source": [
    "from matplotlib import pyplot as plt\n",
    "import numpy as np"
   ]
  },
  {
   "cell_type": "code",
   "execution_count": 2,
   "id": "ae58a7d9-e184-4a83-be09-4c8a8aa9c456",
   "metadata": {},
   "outputs": [],
   "source": [
    "nums = np.arange(10)"
   ]
  },
  {
   "cell_type": "code",
   "execution_count": 3,
   "id": "1f648a29-07bf-4c6d-a909-882b09426e0f",
   "metadata": {},
   "outputs": [
    {
     "name": "stdout",
     "output_type": "stream",
     "text": [
      "[0 1 2 3 4 5 6 7 8 9]\n"
     ]
    }
   ],
   "source": [
    "print(nums)"
   ]
  },
  {
   "cell_type": "code",
   "execution_count": 10,
   "id": "edcff938-4da5-4d5e-a6bf-9fa06dd0b47c",
   "metadata": {},
   "outputs": [
    {
     "name": "stdout",
     "output_type": "stream",
     "text": [
      "[False False False False False  True  True  True  True  True]\n",
      "[5 6 7 8 9]\n"
     ]
    }
   ],
   "source": [
    "nums[nums > 4]\n",
    "\n",
    "gt4 = nums > 4\n",
    "\n",
    "print(gt4)\n",
    "\n",
    "print(nums[gt4])"
   ]
  },
  {
   "cell_type": "code",
   "execution_count": 9,
   "id": "f038f8b4-1714-4cdc-a801-8fd8dcced62a",
   "metadata": {},
   "outputs": [
    {
     "data": {
      "text/plain": [
       "array([1, 3, 5, 7, 9])"
      ]
     },
     "execution_count": 9,
     "metadata": {},
     "output_type": "execute_result"
    }
   ],
   "source": [
    "nums[ [False, True, False, True, False, True, False, True, False, True] ]"
   ]
  },
  {
   "cell_type": "code",
   "execution_count": 12,
   "id": "1b3d54bc-9a8c-4625-85e3-9e0cec130398",
   "metadata": {},
   "outputs": [
    {
     "data": {
      "text/plain": [
       "array([  0,   1,   2,   3,   4, 100, 100, 100, 100, 100])"
      ]
     },
     "execution_count": 12,
     "metadata": {},
     "output_type": "execute_result"
    }
   ],
   "source": [
    "nums[nums > 4] = 100\n",
    "\n",
    "nums"
   ]
  },
  {
   "cell_type": "code",
   "execution_count": 13,
   "id": "4d9298ba-93f3-4d91-8006-4214943fede8",
   "metadata": {},
   "outputs": [
    {
     "data": {
      "text/plain": [
       "array([1, 2])"
      ]
     },
     "execution_count": 13,
     "metadata": {},
     "output_type": "execute_result"
    }
   ],
   "source": [
    "nums[ [1,2] ]"
   ]
  },
  {
   "cell_type": "code",
   "execution_count": 15,
   "id": "59f9f945-0b09-4b79-912b-b1fe9b9134af",
   "metadata": {},
   "outputs": [
    {
     "data": {
      "text/plain": [
       "array([[ 0,  1,  2,  3,  4,  5],\n",
       "       [ 6,  7,  8,  9, 10, 11],\n",
       "       [12, 13, 14, 15, 16, 17],\n",
       "       [18, 19, 20, 21, 22, 23],\n",
       "       [24, 25, 26, 27, 28, 29],\n",
       "       [30, 31, 32, 33, 34, 35]])"
      ]
     },
     "metadata": {},
     "output_type": "display_data"
    }
   ],
   "source": [
    "matrix_nums = np.arange(36).reshape(6,6)\n",
    "\n",
    "display(matrix_nums)"
   ]
  },
  {
   "cell_type": "code",
   "execution_count": 16,
   "id": "48da217b-1372-445d-90ff-27c803851751",
   "metadata": {},
   "outputs": [
    {
     "data": {
      "text/plain": [
       "0"
      ]
     },
     "execution_count": 16,
     "metadata": {},
     "output_type": "execute_result"
    }
   ],
   "source": [
    "matrix_nums[0,0]"
   ]
  },
  {
   "cell_type": "code",
   "execution_count": 17,
   "id": "75ad7932-e3c2-435c-9de1-593db3c2b1f4",
   "metadata": {},
   "outputs": [
    {
     "data": {
      "text/plain": [
       "35"
      ]
     },
     "execution_count": 17,
     "metadata": {},
     "output_type": "execute_result"
    }
   ],
   "source": [
    "matrix_nums[5,5]"
   ]
  },
  {
   "cell_type": "code",
   "execution_count": 19,
   "id": "03e3198f-d6a6-4b65-b41b-59f0bd8e3536",
   "metadata": {},
   "outputs": [
    {
     "data": {
      "text/plain": [
       "15"
      ]
     },
     "execution_count": 19,
     "metadata": {},
     "output_type": "execute_result"
    }
   ],
   "source": [
    "row = 2\n",
    "col = 3\n",
    "\n",
    "matrix_nums[row,col]"
   ]
  },
  {
   "cell_type": "code",
   "execution_count": 21,
   "id": "7b24948b-2561-4a18-87a9-5a2b5042071a",
   "metadata": {},
   "outputs": [
    {
     "data": {
      "text/plain": [
       "array([ 6,  7,  8,  9, 10, 11])"
      ]
     },
     "execution_count": 21,
     "metadata": {},
     "output_type": "execute_result"
    }
   ],
   "source": [
    "matrix_nums[1,:]"
   ]
  },
  {
   "cell_type": "code",
   "execution_count": 22,
   "id": "9a84155f-4ac9-4ca7-8048-a90cc41893cb",
   "metadata": {},
   "outputs": [
    {
     "data": {
      "text/plain": [
       "array([ 1,  7, 13, 19, 25, 31])"
      ]
     },
     "execution_count": 22,
     "metadata": {},
     "output_type": "execute_result"
    }
   ],
   "source": [
    "matrix_nums[:,1]"
   ]
  },
  {
   "cell_type": "code",
   "execution_count": 24,
   "id": "2b68bc24-c271-4882-955c-9a9be86c0091",
   "metadata": {},
   "outputs": [
    {
     "data": {
      "text/plain": [
       "array([[ 1,  3],\n",
       "       [ 7,  9],\n",
       "       [13, 15],\n",
       "       [19, 21],\n",
       "       [25, 27],\n",
       "       [31, 33]])"
      ]
     },
     "execution_count": 24,
     "metadata": {},
     "output_type": "execute_result"
    }
   ],
   "source": [
    "matrix_nums[:,1:4:2]"
   ]
  },
  {
   "cell_type": "code",
   "execution_count": 34,
   "id": "0847465a-9132-4b44-bbfa-fa644bd5408f",
   "metadata": {},
   "outputs": [
    {
     "name": "stdout",
     "output_type": "stream",
     "text": [
      "[[0 0 0 0 0 0 0 0]\n",
      " [0 0 0 0 0 0 0 0]\n",
      " [0 0 0 0 0 0 0 0]\n",
      " [0 0 0 0 0 0 0 0]\n",
      " [0 0 0 0 0 0 0 0]\n",
      " [0 0 0 0 0 0 0 0]\n",
      " [0 0 0 0 0 0 0 0]\n",
      " [0 0 0 0 0 0 0 0]]\n",
      "(8, 8)\n"
     ]
    }
   ],
   "source": []
  },
  {
   "cell_type": "code",
   "execution_count": 49,
   "id": "b411fc9f-599f-440c-9ddb-013fedeb3161",
   "metadata": {},
   "outputs": [
    {
     "data": {
      "image/png": "[encoded data removed]",
      "text/plain": [
       "<Figure size 432x288 with 1 Axes>"
      ]
     },
     "metadata": {
      "needs_background": "light"
     },
     "output_type": "display_data"
    }
   ],
   "source": [
    "colors = { 1: 'red', 2: 'green', 3: 'blue' }\n",
    "\n",
    "nums = np.zeros(64, dtype=\"int8\").reshape(8,8)\n",
    "# nums = np.random.randint(0, 4, 64, dtype=\"int8\").reshape(8,8)\n",
    "# print(nums)\n",
    "# print(nums.shape)\n",
    "\n",
    "points = np.array([ [x,y] for x in range(nums.shape[0]) for y in range(nums.shape[1]) ])\n",
    "# print(points)\n",
    "\n",
    "# experiment with selecting different elements\n",
    "# nums[:,0:5:2] = 3\n",
    "# nums[[5,6], 4:6] = 3\n",
    "# nums[nums==2] = 3\n",
    "\n",
    "for x, y in points:\n",
    "    plt.scatter(x, y, color=colors.get(nums[y,x], 'black'))"
   ]
  },
  {
   "cell_type": "code",
   "execution_count": null,
   "id": "37fc8e61-a700-4072-88b4-9f78a34b36f4",
   "metadata": {},
   "outputs": [],
   "source": []
  }
 ],
 "metadata": {
  "kernelspec": {
   "display_name": "Python 3",
   "language": "python",
   "name": "python3"
  },
  "language_info": {
   "codemirror_mode": {
    "name": "ipython",
    "version": 3
   },
   "file_extension": ".py",
   "mimetype": "text/x-python",
   "name": "python",
   "nbconvert_exporter": "python",
   "pygments_lexer": "ipython3",
   "version": "3.9.4"
  }
 },
 "nbformat": 4,
 "nbformat_minor": 5
}
