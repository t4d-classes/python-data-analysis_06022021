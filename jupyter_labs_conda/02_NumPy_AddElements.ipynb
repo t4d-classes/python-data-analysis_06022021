{
 "cells": [
  {
   "cell_type": "markdown",
   "id": "b5b0b15f-91dd-4e99-84b0-203d00b9c625",
   "metadata": {},
   "source": [
    "# Add Elements to a NumPy Array"
   ]
  },
  {
   "cell_type": "code",
   "execution_count": 1,
   "id": "e2989e2a-1748-4127-ae82-e87f2ac10a54",
   "metadata": {},
   "outputs": [],
   "source": [
    "import numpy as np"
   ]
  },
  {
   "cell_type": "code",
   "execution_count": 2,
   "id": "de6bc6d5-bf2a-4300-b3cc-fc20c52fe0bd",
   "metadata": {},
   "outputs": [
    {
     "name": "stdout",
     "output_type": "stream",
     "text": [
      "[0 1 2 3 4]\n"
     ]
    }
   ],
   "source": [
    "nums = np.arange(5)\n",
    "\n",
    "print(nums)"
   ]
  },
  {
   "cell_type": "markdown",
   "id": "b9813029-7eec-43dc-8646-5a07c2a71a6e",
   "metadata": {},
   "source": [
    "## Add Items or Combine Arrays"
   ]
  },
  {
   "cell_type": "code",
   "execution_count": 6,
   "id": "2296fa13-7057-4745-ae14-39a007d28bfd",
   "metadata": {},
   "outputs": [
    {
     "name": "stdout",
     "output_type": "stream",
     "text": [
      "[0 1 2 3 4]\n",
      "[0 1 2 3 4 5]\n"
     ]
    }
   ],
   "source": [
    "new_nums = np.append(nums, 5)\n",
    "\n",
    "print(nums)\n",
    "print(new_nums)"
   ]
  },
  {
   "cell_type": "code",
   "execution_count": 7,
   "id": "90496428-0fd7-4cd7-ab0d-e0b067fa7273",
   "metadata": {},
   "outputs": [
    {
     "name": "stdout",
     "output_type": "stream",
     "text": [
      "[0 1 2 3 4]\n",
      "[ 0  1  2  3  4  5  6  7  8  9 10]\n"
     ]
    }
   ],
   "source": [
    "new_nums = np.concatenate([ nums, [5], [6,7,8], [9, 10] ])\n",
    "\n",
    "print(nums)\n",
    "print(new_nums)"
   ]
  },
  {
   "cell_type": "markdown",
   "id": "5e920c17-d2c3-45ea-bbb8-fb4a6d07f547",
   "metadata": {},
   "source": [
    "## Insert an Item into an Array"
   ]
  },
  {
   "cell_type": "code",
   "execution_count": 5,
   "id": "fe70f27f-ff5d-4798-905a-a3ec35a61ce0",
   "metadata": {},
   "outputs": [
    {
     "name": "stdout",
     "output_type": "stream",
     "text": [
      "[0 1 2 3 4]\n",
      "[0 1 9 2 3 4]\n"
     ]
    }
   ],
   "source": [
    "new_nums = np.insert(nums, 2, 9)\n",
    "\n",
    "print(nums)\n",
    "print(new_nums)"
   ]
  },
  {
   "cell_type": "code",
   "execution_count": null,
   "id": "820fb1fd-c73d-4179-93a0-b15e7a9fcaed",
   "metadata": {},
   "outputs": [],
   "source": []
  }
 ],
 "metadata": {
  "kernelspec": {
   "display_name": "Python 3",
   "language": "python",
   "name": "python3"
  },
  "language_info": {
   "codemirror_mode": {
    "name": "ipython",
    "version": 3
   },
   "file_extension": ".py",
   "mimetype": "text/x-python",
   "name": "python",
   "nbconvert_exporter": "python",
   "pygments_lexer": "ipython3",
   "version": "3.9.4"
  }
 },
 "nbformat": 4,
 "nbformat_minor": 5
}
