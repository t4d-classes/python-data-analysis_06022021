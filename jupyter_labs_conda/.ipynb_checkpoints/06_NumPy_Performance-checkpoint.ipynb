{
 "cells": [
  {
   "cell_type": "markdown",
   "id": "87598fe2-6249-4582-80f6-41e8feebf48c",
   "metadata": {},
   "source": [
    "# Performance"
   ]
  },
  {
   "cell_type": "code",
   "execution_count": 1,
   "id": "40e9d3eb-3cdc-47c0-81c3-16dc24c0131b",
   "metadata": {},
   "outputs": [],
   "source": [
    "import numpy as np\n",
    "import sys\n",
    "\n",
    "item_count = 50000000"
   ]
  },
  {
   "cell_type": "code",
   "execution_count": 6,
   "id": "d71b1eab-3b11-476a-a7aa-585c7103ca20",
   "metadata": {},
   "outputs": [
    {
     "name": "stdout",
     "output_type": "stream",
     "text": [
      "100000000\n",
      "411.943896\n",
      "Wall time: 13.9 s\n"
     ]
    }
   ],
   "source": [
    "%%time\n",
    "\n",
    "nums_list = [ 1 for _ in range(item_count) ]\n",
    "\n",
    "double_nums_list = [ x * 2 for x in nums_list ]\n",
    "\n",
    "double_nums_list_sum = sum(double_nums_list)\n",
    "\n",
    "print(double_nums_list_sum)\n",
    "print(sys.getsizeof(double_nums_list) / 1000000)"
   ]
  },
  {
   "cell_type": "code",
   "execution_count": null,
   "id": "63e3ac3c-edd9-4078-be0f-f07f172c2eb8",
   "metadata": {},
   "outputs": [],
   "source": [
    "%%time\n",
    "\n",
    "nums_arr = np.ones(item_count, dtype=\"int8\")\n",
    "\n",
    "double_nums_arr = nums_arr * 2\n",
    "\n",
    "double_nums_arr_sum = np.sum(double_nums_arr)\n",
    "\n",
    "print(double_nums_arr_sum)\n",
    "print(double_nums_arr.nbytes)\n",
    "print(sys.getsizeof(double_nums_arr) / 1000000)"
   ]
  }
 ],
 "metadata": {
  "kernelspec": {
   "display_name": "Python 3",
   "language": "python",
   "name": "python3"
  },
  "language_info": {
   "codemirror_mode": {
    "name": "ipython",
    "version": 3
   },
   "file_extension": ".py",
   "mimetype": "text/x-python",
   "name": "python",
   "nbconvert_exporter": "python",
   "pygments_lexer": "ipython3",
   "version": "3.9.4"
  }
 },
 "nbformat": 4,
 "nbformat_minor": 5
}
