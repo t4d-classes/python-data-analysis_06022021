{
 "cells": [
  {
   "cell_type": "markdown",
   "id": "463b2794-e2f5-43a6-915a-69b43b004ead",
   "metadata": {},
   "source": [
    "# Create NumPy Arrays"
   ]
  },
  {
   "cell_type": "code",
   "execution_count": 27,
   "id": "d453a88f-bd3f-41af-9e64-f647d45c7e7a",
   "metadata": {},
   "outputs": [],
   "source": [
    "import numpy as np # most people alias numpy to np\n",
    "import sys"
   ]
  },
  {
   "cell_type": "markdown",
   "id": "7c59fa49-c2dd-4a17-aeda-43068b31da53",
   "metadata": {},
   "source": [
    "## Create NumPy Arrays from a Python List"
   ]
  },
  {
   "cell_type": "code",
   "execution_count": 32,
   "id": "7d5e42e5-950c-4b56-9bb6-dca6cf2fe60a",
   "metadata": {},
   "outputs": [
    {
     "data": {
      "text/plain": [
       "[1, 2, 3, 4, 5]"
      ]
     },
     "metadata": {},
     "output_type": "display_data"
    },
    {
     "data": {
      "text/plain": [
       "array([1, 2, 3, 4, 5], dtype=int16)"
      ]
     },
     "metadata": {},
     "output_type": "display_data"
    }
   ],
   "source": [
    "nums_list = [1,2,3,4,5]\n",
    "\n",
    "nums_arr = np.array(nums_list, dtype=\"int16\")\n",
    "\n",
    "display(nums_list)\n",
    "display(nums_arr)"
   ]
  },
  {
   "cell_type": "markdown",
   "id": "1ea99174-b523-4b89-8451-9af88767c799",
   "metadata": {},
   "source": [
    "## NumPy Array Attributes"
   ]
  },
  {
   "cell_type": "code",
   "execution_count": 33,
   "id": "1e4785df-3755-4719-8fea-55fd503c5bdf",
   "metadata": {},
   "outputs": [
    {
     "data": {
      "text/plain": [
       "dtype('int16')"
      ]
     },
     "metadata": {},
     "output_type": "display_data"
    },
    {
     "data": {
      "text/plain": [
       "1"
      ]
     },
     "metadata": {},
     "output_type": "display_data"
    },
    {
     "data": {
      "text/plain": [
       "5"
      ]
     },
     "metadata": {},
     "output_type": "display_data"
    },
    {
     "data": {
      "text/plain": [
       "5"
      ]
     },
     "metadata": {},
     "output_type": "display_data"
    },
    {
     "data": {
      "text/plain": [
       "numpy.ndarray"
      ]
     },
     "metadata": {},
     "output_type": "display_data"
    }
   ],
   "source": [
    "display(nums_arr.dtype)\n",
    "display(nums_arr.ndim)\n",
    "display(nums_arr.size)\n",
    "display(len(nums_arr))\n",
    "display(type(nums_arr))"
   ]
  },
  {
   "cell_type": "markdown",
   "id": "b0e773e0-f159-4900-acd9-844ecd5ef1de",
   "metadata": {},
   "source": [
    "## NumPy Array Memory"
   ]
  },
  {
   "cell_type": "code",
   "execution_count": 34,
   "id": "7ae6a80d-4b25-4694-abf0-e28798de17fe",
   "metadata": {},
   "outputs": [
    {
     "data": {
      "text/plain": [
       "2"
      ]
     },
     "metadata": {},
     "output_type": "display_data"
    },
    {
     "data": {
      "text/plain": [
       "5"
      ]
     },
     "metadata": {},
     "output_type": "display_data"
    },
    {
     "data": {
      "text/plain": [
       "10"
      ]
     },
     "metadata": {},
     "output_type": "display_data"
    },
    {
     "data": {
      "text/plain": [
       "10"
      ]
     },
     "metadata": {},
     "output_type": "display_data"
    },
    {
     "data": {
      "text/plain": [
       "114"
      ]
     },
     "metadata": {},
     "output_type": "display_data"
    }
   ],
   "source": [
    "display(nums_arr.itemsize)\n",
    "display(nums_arr.size)\n",
    "display(nums_arr.itemsize * nums_arr.size)\n",
    "display(nums_arr.nbytes)\n",
    "display(sys.getsizeof(nums_arr))"
   ]
  },
  {
   "cell_type": "markdown",
   "id": "501dda3a-2740-4073-aded-7142af2c8ba7",
   "metadata": {},
   "source": [
    "## Multi-Dimesional Arrays"
   ]
  },
  {
   "cell_type": "code",
   "execution_count": 38,
   "id": "a3214e5f-31c1-49cd-b816-f4c91dcf016d",
   "metadata": {},
   "outputs": [
    {
     "data": {
      "text/plain": [
       "[[[1, 2, 3], [1, 2, 3], [1, 2, 3]], [[1, 2, 3], [1, 2, 3], [1, 2, 3]]]"
      ]
     },
     "metadata": {},
     "output_type": "display_data"
    },
    {
     "data": {
      "text/plain": [
       "array([[[1, 2, 3],\n",
       "        [1, 2, 3],\n",
       "        [1, 2, 3]],\n",
       "\n",
       "       [[1, 2, 3],\n",
       "        [1, 2, 3],\n",
       "        [1, 2, 3]]], dtype=int16)"
      ]
     },
     "metadata": {},
     "output_type": "display_data"
    }
   ],
   "source": [
    "nums_list = [[[1,2,3],[1,2,3],[1,2,3]],[[1,2,3],[1,2,3],[1,2,3]]]\n",
    "\n",
    "nums_arr = np.array(nums_list, dtype=\"int16\")\n",
    "\n",
    "display(nums_list)\n",
    "display(nums_arr)"
   ]
  },
  {
   "cell_type": "code",
   "execution_count": 39,
   "id": "148c0eb2-2a98-4ca7-bb17-95b644ccd7f8",
   "metadata": {},
   "outputs": [
    {
     "data": {
      "text/plain": [
       "dtype('int16')"
      ]
     },
     "metadata": {},
     "output_type": "display_data"
    },
    {
     "data": {
      "text/plain": [
       "3"
      ]
     },
     "metadata": {},
     "output_type": "display_data"
    },
    {
     "data": {
      "text/plain": [
       "18"
      ]
     },
     "metadata": {},
     "output_type": "display_data"
    },
    {
     "data": {
      "text/plain": [
       "2"
      ]
     },
     "metadata": {},
     "output_type": "display_data"
    },
    {
     "data": {
      "text/plain": [
       "numpy.ndarray"
      ]
     },
     "metadata": {},
     "output_type": "display_data"
    }
   ],
   "source": [
    "display(nums_arr.dtype)\n",
    "display(nums_arr.ndim)\n",
    "display(nums_arr.size)\n",
    "display(len(nums_arr))\n",
    "display(type(nums_arr))"
   ]
  },
  {
   "cell_type": "markdown",
   "id": "2e0a7325-c166-4264-8b98-75e79af0d6af",
   "metadata": {},
   "source": [
    "## Array of Floats"
   ]
  },
  {
   "cell_type": "code",
   "execution_count": 42,
   "id": "06ea8d1f-19f4-48d9-9344-89353590f888",
   "metadata": {},
   "outputs": [
    {
     "data": {
      "text/plain": [
       "[1.0, 2.0, 3.0, 4.0, 5.0]"
      ]
     },
     "metadata": {},
     "output_type": "display_data"
    },
    {
     "data": {
      "text/plain": [
       "array([1., 2., 3., 4., 5.])"
      ]
     },
     "metadata": {},
     "output_type": "display_data"
    },
    {
     "data": {
      "text/plain": [
       "dtype('float64')"
      ]
     },
     "metadata": {},
     "output_type": "display_data"
    }
   ],
   "source": [
    "nums_list = [1.,2.,3.,4.,5.]\n",
    "\n",
    "nums_arr = np.array(nums_list)\n",
    "\n",
    "display(nums_list)\n",
    "display(nums_arr)\n",
    "display(nums_arr.dtype)"
   ]
  },
  {
   "cell_type": "markdown",
   "id": "f6005fe0-0f17-4339-ae0c-eb6684c6a040",
   "metadata": {},
   "source": [
    "## Create Arrays Filled with Numbers"
   ]
  },
  {
   "cell_type": "code",
   "execution_count": 45,
   "id": "3b564e40-372f-4046-b1bc-77504d96ead0",
   "metadata": {},
   "outputs": [
    {
     "name": "stdout",
     "output_type": "stream",
     "text": [
      "[0, 1, 2, 3, 4, 5, 6, 7, 8, 9]\n"
     ]
    }
   ],
   "source": [
    "nums_list = list(range(10))\n",
    "\n",
    "print(nums_list)"
   ]
  },
  {
   "cell_type": "code",
   "execution_count": 50,
   "id": "fbccc3e7-03f9-4e1e-8046-0fad50b2e9d5",
   "metadata": {},
   "outputs": [
    {
     "name": "stdout",
     "output_type": "stream",
     "text": [
      "[0 1 2 3 4 5 6 7 8 9]\n",
      "[10 11 12 13 14 15 16 17 18 19]\n",
      "[ 0 10 20 30 40 50 60 70 80 90]\n",
      "[ 0. 10. 20. 30. 40. 50. 60. 70. 80. 90.]\n",
      "[ 0 10 20 30 40 50 60 70 80 90]\n"
     ]
    }
   ],
   "source": [
    "nums_arr = np.arange(10)\n",
    "print(nums_arr)\n",
    "\n",
    "nums_arr = np.arange(10, 20)\n",
    "print(nums_arr)\n",
    "\n",
    "nums_arr = np.arange(100, step=10)\n",
    "print(nums_arr)\n",
    "\n",
    "nums_arr = np.arange(100., step=10)\n",
    "print(nums_arr)\n",
    "\n",
    "nums_arr = np.arange(100000, step=10, dtype=\"int8\")\n",
    "print(nums_arr)"
   ]
  },
  {
   "cell_type": "code",
   "execution_count": null,
   "id": "fe06bfb7-5a55-4f63-9221-b1ecebee8549",
   "metadata": {},
   "outputs": [],
   "source": []
  }
 ],
 "metadata": {
  "kernelspec": {
   "display_name": "Python 3",
   "language": "python",
   "name": "python3"
  },
  "language_info": {
   "codemirror_mode": {
    "name": "ipython",
    "version": 3
   },
   "file_extension": ".py",
   "mimetype": "text/x-python",
   "name": "python",
   "nbconvert_exporter": "python",
   "pygments_lexer": "ipython3",
   "version": "3.9.4"
  }
 },
 "nbformat": 4,
 "nbformat_minor": 5
}
