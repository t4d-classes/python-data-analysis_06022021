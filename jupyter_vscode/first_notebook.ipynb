{
 "metadata": {
  "language_info": {
   "codemirror_mode": {
    "name": "ipython",
    "version": 3
   },
   "file_extension": ".py",
   "mimetype": "text/x-python",
   "name": "python",
   "nbconvert_exporter": "python",
   "pygments_lexer": "ipython3",
   "version": "3.9.5"
  },
  "orig_nbformat": 2,
  "kernelspec": {
   "name": "numpy_demos",
   "display_name": "numpy_demos",
   "language": "python"
  }
 },
 "nbformat": 4,
 "nbformat_minor": 2,
 "cells": [
  {
   "source": [
    "# NumPy Demos\n",
    "\n",
    "Here are some NumPy demos!"
   ],
   "cell_type": "markdown",
   "metadata": {}
  },
  {
   "cell_type": "code",
   "execution_count": 1,
   "metadata": {},
   "outputs": [],
   "source": [
    "nums = list(range(20))\n",
    "\n",
    "# nums\n",
    "# print(nums)\n",
    "# display(nums)"
   ]
  },
  {
   "source": [
    "print(\"some output\")\n",
    "print(\"some more output\")\n",
    "\n",
    "display(\"some output\")\n",
    "display(\"some more output\")\n",
    "\n",
    "# output the final expression\n",
    "# \"some output\"\n",
    "# \"some more output\""
   ],
   "cell_type": "code",
   "metadata": {},
   "execution_count": 2,
   "outputs": [
    {
     "output_type": "stream",
     "name": "stdout",
     "text": [
      "some output\nsome more output\n"
     ]
    },
    {
     "output_type": "display_data",
     "data": {
      "text/plain": "'some output'"
     },
     "metadata": {}
    },
    {
     "output_type": "display_data",
     "data": {
      "text/plain": "'some more output'"
     },
     "metadata": {}
    }
   ]
  },
  {
   "cell_type": "code",
   "execution_count": 3,
   "metadata": {},
   "outputs": [],
   "source": [
    "double_nums = [ num * 2 for num in nums ]\n"
   ]
  },
  {
   "cell_type": "code",
   "execution_count": 4,
   "metadata": {},
   "outputs": [
    {
     "output_type": "display_data",
     "data": {
      "text/plain": "[0, 2, 4, 6, 8, 10, 12, 14, 16, 18, 20, 22, 24, 26, 28, 30, 32, 34, 36, 38]"
     },
     "metadata": {}
    }
   ],
   "source": [
    "display(double_nums)"
   ]
  },
  {
   "cell_type": "code",
   "execution_count": 5,
   "metadata": {},
   "outputs": [
    {
     "output_type": "display_data",
     "data": {
      "text/plain": "6"
     },
     "metadata": {}
    }
   ],
   "source": [
    "a = 2\n",
    "b = 4\n",
    "\n",
    "c = a + b\n",
    "\n",
    "display(c)"
   ]
  }
 ]
}